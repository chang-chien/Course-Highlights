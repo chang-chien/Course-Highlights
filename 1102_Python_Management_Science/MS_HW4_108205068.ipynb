{
  "nbformat": 4,
  "nbformat_minor": 0,
  "metadata": {
    "colab": {
      "provenance": []
    },
    "kernelspec": {
      "name": "python3",
      "display_name": "Python 3"
    },
    "language_info": {
      "name": "python"
    }
  },
  "cells": [
    {
      "cell_type": "markdown",
      "source": [
        "###108205068 財政三乙 張簡宇庭\n",
        "Import Basic Kit"
      ],
      "metadata": {
        "id": "CwnoFAWz5gYf"
      }
    },
    {
      "cell_type": "code",
      "execution_count": null,
      "metadata": {
        "id": "yRnPP9cq5cgZ"
      },
      "outputs": [],
      "source": [
        "%pip install gurobipy\n",
        "import gurobipy as grb\n",
        "import numpy as np\n",
        "import math\n",
        "import matplotlib.pyplot as plt\n",
        "import scipy.stats"
      ]
    },
    {
      "cell_type": "markdown",
      "source": [
        "##Case1\n",
        "Step1: Define decision variables<br>\n",
        "*Xij*<br>\n",
        "for i and j which means<br>\n",
        "i = number of source<br>\n",
        "j = number of market<br>\n",
        "<br>\n",
        "Step2: Define objective function based on the decision variables<br>\n",
        "Find a optimal distribution plan with minimum cost<br>\n",
        "min f(x) = 61 * X11 + 72 * X12 + 45 * X13 + 55 * X14 + 66 * X15 + 69 * X21 + 78 * X22 + 60 * X23 + 49 * X24 +56 * X25 + 59 * X31 + 66 * X32 + 63 * X33 + 61 * X34 + 47 * X35<br>\n",
        "<br>\n",
        "Step3: Construct constraints on the decision variables<br>\n",
        "*Limited capacity*<br>\n",
        "X11 + X12 + X13 + X14 + X15 <= 15<br>\n",
        "X21 + X22 + X23 + X24 + X25 <= 20<br>\n",
        "X31 + X32 + X33 + X34 + X35 <= 15<br>\n",
        "X11 + X21 + X31 >= 11<br>\n",
        "X12 + X22 + X32 >= 12<br>\n",
        "X13 + X23 + X33 >= 9<br>\n",
        "X14 + X24 + X34 >= 10<br>\n",
        "X15 + X25 + X35 >= 8<br>"
      ],
      "metadata": {
        "id": "FBSt_0gP5vqP"
      }
    },
    {
      "cell_type": "markdown",
      "source": [
        "##Case2\n",
        "Step1: Define decision variables<br>\n",
        "*Xij*<br>\n",
        "for i and j which means<br>\n",
        "i = number of source<br>\n",
        "j = number of market<br>\n",
        "<br>\n",
        "Step2: Define objective function based on the decision variables<br>\n",
        "Find a optimal distribution plan with minimum cost<br>\n",
        "min f(x) = 61 * X11 + 72 * X12 + 45 * X13 + 55 * X14 + 66 * X15 + 69 * X21 + 78 * X22 + 60 * X23 + 49 * X24 +56 * X25 + 59 * X31 + 66 * X32 + 63 * X33 + 61 * X34 + 47 * X35<br>\n",
        "<br>\n",
        "Step3: Construct constraints on the decision variables<br>\n",
        "*Limited capacity*<br>\n",
        "X11 + X12 + X13 + X14 + X15 <= 15<br>\n",
        "X21 + X22 + X23 + X24 + X25 <= 20<br>\n",
        "X31 + X32 + X33 + X34 + X35 <= 15<br>\n",
        "X11 + X21 + X31 >= 11<br>\n",
        "X12 + X22 + X32 >= 12<br>\n",
        "X13 + X23 + X33 >= 9<br>\n",
        "X14 + X24 + X34 >= 10<br>\n",
        "X15 + X25 + X35 >= 8<br>"
      ],
      "metadata": {
        "id": "shtGkJUk-ZUz"
      }
    }
  ]
}