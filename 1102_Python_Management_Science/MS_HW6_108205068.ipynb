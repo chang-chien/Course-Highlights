{
  "nbformat": 4,
  "nbformat_minor": 0,
  "metadata": {
    "colab": {
      "provenance": []
    },
    "kernelspec": {
      "name": "python3",
      "display_name": "Python 3"
    },
    "language_info": {
      "name": "python"
    }
  },
  "cells": [
    {
      "cell_type": "markdown",
      "source": [
        "###108205068 財政三乙 張簡宇庭\n",
        "Import Basic Kit"
      ],
      "metadata": {
        "id": "ADF5Kf87uZVF"
      }
    },
    {
      "cell_type": "code",
      "execution_count": null,
      "metadata": {
        "colab": {
          "base_uri": "https://localhost:8080/"
        },
        "id": "74wI0J-DuSOV",
        "outputId": "32db7d22-a730-4c76-ba8b-42ce652f46e7"
      },
      "outputs": [
        {
          "output_type": "stream",
          "name": "stdout",
          "text": [
            "Collecting gurobipy\n",
            "  Downloading gurobipy-9.5.1-cp37-cp37m-manylinux2014_x86_64.whl (11.5 MB)\n",
            "\u001b[K     |████████████████████████████████| 11.5 MB 12.8 MB/s \n",
            "\u001b[?25hInstalling collected packages: gurobipy\n",
            "Successfully installed gurobipy-9.5.1\n"
          ]
        }
      ],
      "source": [
        "%pip install gurobipy\n",
        "import gurobipy as grb\n",
        "import numpy as np\n",
        "import math\n",
        "import matplotlib.pyplot as plt\n",
        "import scipy.stats\n",
        "import scipy.optimize as opt"
      ]
    },
    {
      "cell_type": "markdown",
      "source": [
        "Q1"
      ],
      "metadata": {
        "id": "URKvdu-26kDi"
      }
    },
    {
      "cell_type": "code",
      "source": [
        "def objective(t):\n",
        "  return -(4*(1-0.75**t)+1/(1+t))\n",
        "\n",
        "\n",
        "t0 = 0 #initial value\n",
        "\n",
        "res0 = opt.minimize(objective, t0)\n",
        "res0"
      ],
      "metadata": {
        "colab": {
          "base_uri": "https://localhost:8080/"
        },
        "id": "MTeV4H-N9miZ",
        "outputId": "fccd10ac-fcab-4287-e182-fd6893756bdd"
      },
      "execution_count": null,
      "outputs": [
        {
          "output_type": "execute_result",
          "data": {
            "text/plain": [
              "      fun: -4.036375420390952\n",
              " hess_inv: array([[2802.48470617]])\n",
              "      jac: array([4.76837158e-07])\n",
              "  message: 'Optimization terminated successfully.'\n",
              "     nfev: 33\n",
              "      nit: 6\n",
              "     njev: 11\n",
              "   status: 0\n",
              "  success: True\n",
              "        x: array([22.41016967])"
            ]
          },
          "metadata": {},
          "execution_count": 64
        }
      ]
    },
    {
      "cell_type": "markdown",
      "source": [
        "Q2(a)"
      ],
      "metadata": {
        "id": "-OGqNK5NucQx"
      }
    },
    {
      "cell_type": "code",
      "source": [
        "def objective(g):\n",
        "    return np.sqrt(12.17*12.17*g[0]**2 + 24.47*24.47*g[1]**2 + 37.72*37.72*g[2]**2 + 8.66*8.66*g[3]**2 +\n",
        "                   2*12.17*24.47*0.158*g[0]*g[1] + 2*12.17*37.72*0.078*g[0]*g[2] + 2*12.17*8.66*0.579*g[0]*g[3] +\n",
        "                   2*24.47*37.72*0.241*g[1]*g[2] + 2*24.47*8.66*0.302*g[1]*g[3] + 2*37.72*8.66*0.282*g[2]*g[3])\n",
        "def constr1(g):\n",
        "    return g[0] + g[1] + g[2] + g[3]\n",
        "def constr2(g):\n",
        "    return 14.67*g[0] + 33.2*g[1] + 59.36*g[2] + 11.91*g[3]\n",
        "def constr3(g):\n",
        "  return g[0]\n",
        "def constr4(g):\n",
        "  return g[1]\n",
        "def constr5(g):\n",
        "  return g[2]\n",
        "def constr6(g):\n",
        "  return g[3]"
      ],
      "metadata": {
        "id": "AUiQvBrk1Qjp"
      },
      "execution_count": null,
      "outputs": []
    },
    {
      "cell_type": "code",
      "source": [
        "x0 = np.array([0, 0, 0, 0]) ## initial value\n",
        "cons1 = opt.NonlinearConstraint(constr1, ub=1, lb=1)\n",
        "cons2 = opt.NonlinearConstraint(constr2, ub=np.inf, lb=30)\n",
        "cons3 = opt.NonlinearConstraint(constr3, ub=1, lb=0)\n",
        "cons4 = opt.NonlinearConstraint(constr4, ub=1, lb=0)\n",
        "cons5 = opt.NonlinearConstraint(constr5, ub=1, lb=0)\n",
        "cons6 = opt.NonlinearConstraint(constr6, ub=1, lb=0)\n",
        "res = opt.minimize(objective, x0,constraints=[cons1, cons2, cons3, cons4, cons5, cons6])\n",
        "res"
      ],
      "metadata": {
        "colab": {
          "base_uri": "https://localhost:8080/"
        },
        "id": "3hbYT2Lw1mY0",
        "outputId": "4e73c8d1-8ba0-4831-f81d-381456f08eef"
      },
      "execution_count": null,
      "outputs": [
        {
          "output_type": "execute_result",
          "data": {
            "text/plain": [
              "     fun: 14.302200659896544\n",
              "     jac: array([ 6.33712745, 15.96488595, 29.55696511,  4.90261936])\n",
              " message: 'Optimization terminated successfully.'\n",
              "    nfev: 42\n",
              "     nit: 7\n",
              "    njev: 7\n",
              "  status: 0\n",
              " success: True\n",
              "       x: array([0.45045002, 0.24954756, 0.24307461, 0.05692781])"
            ]
          },
          "metadata": {},
          "execution_count": 71
        }
      ]
    },
    {
      "cell_type": "markdown",
      "source": [
        "Q2(b)"
      ],
      "metadata": {
        "id": "UQHjmf8Z6exd"
      }
    },
    {
      "cell_type": "code",
      "source": [
        "def objective1(g):\n",
        "    return -(14.67*g[0] + 33.2*g[1] + 59.36*g[2] + 11.91*g[3]) #Scipy only has minimize function\n",
        "def constr11(g):\n",
        "    return g[0] + g[1] + g[2] + g[3]\n",
        "def constr21(g):\n",
        "    return np.sqrt(12.17*12.17*g[0]**2 + 24.47*24.47*g[1]**2 + 37.72*37.72*g[2]**2 + 8.66*8.66*g[3]**2 +\n",
        "                   2*12.17*24.47*0.158*g[0]*g[1] + 2*12.17*37.72*0.078*g[0]*g[2] + 2*12.17*8.66*0.579*g[0]*g[3] +\n",
        "                   2*24.47*37.72*0.241*g[1]*g[2] + 2*24.47*8.66*0.302*g[1]*g[3] + 2*37.72*8.66*0.282*g[2]*g[3])"
      ],
      "metadata": {
        "id": "I5s5DdmCufdL"
      },
      "execution_count": null,
      "outputs": []
    },
    {
      "cell_type": "code",
      "source": [
        "x0 = np.array([0, 0, 0, 0]) ## initial value\n",
        "cons11 = opt.NonlinearConstraint(constr11, ub=1, lb=1)\n",
        "cons21 = opt.NonlinearConstraint(constr21, ub=10, lb=0)\n",
        "res1 = opt.minimize(objective1, x0,constraints=[cons11, cons21])\n",
        "res1"
      ],
      "metadata": {
        "colab": {
          "base_uri": "https://localhost:8080/"
        },
        "id": "RvuBerufyjYx",
        "outputId": "4f2d6674-bd26-480c-cee0-c298fa2c8f01"
      },
      "execution_count": null,
      "outputs": [
        {
          "output_type": "execute_result",
          "data": {
            "text/plain": [
              "     fun: -20.33222493189514\n",
              "     jac: array([-14.66999984, -33.19999981, -59.3599999 , -11.91000009])\n",
              " message: 'Optimization terminated successfully.'\n",
              "    nfev: 104\n",
              "     nit: 16\n",
              "    njev: 16\n",
              "  status: 0\n",
              " success: True\n",
              "       x: array([0.27817029, 0.12657176, 0.10452607, 0.49073188])"
            ]
          },
          "metadata": {},
          "execution_count": 75
        }
      ]
    },
    {
      "cell_type": "markdown",
      "source": [
        "Q2(c)"
      ],
      "metadata": {
        "id": "Rv3lX4436ggq"
      }
    },
    {
      "cell_type": "code",
      "source": [
        "import matplotlib.pyplot as plt"
      ],
      "metadata": {
        "id": "n4DUL1Nh6gJ3"
      },
      "execution_count": null,
      "outputs": []
    }
  ]
}