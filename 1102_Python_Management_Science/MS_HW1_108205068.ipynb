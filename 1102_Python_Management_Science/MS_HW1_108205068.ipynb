{
  "nbformat": 4,
  "nbformat_minor": 0,
  "metadata": {
    "colab": {
      "provenance": []
    },
    "kernelspec": {
      "name": "python3",
      "display_name": "Python 3"
    },
    "language_info": {
      "name": "python"
    }
  },
  "cells": [
    {
      "cell_type": "markdown",
      "source": [
        "###108205068 財政三乙 張簡宇庭\n",
        "Import Basic Kit"
      ],
      "metadata": {
        "id": "KlO_Dmg7y_hf"
      }
    },
    {
      "cell_type": "code",
      "execution_count": null,
      "metadata": {
        "colab": {
          "base_uri": "https://localhost:8080/"
        },
        "id": "cJaLhYkRy7qF",
        "outputId": "dcbc9c38-56db-42d1-f3b2-59f681c719f5"
      },
      "outputs": [
        {
          "output_type": "stream",
          "name": "stdout",
          "text": [
            "Collecting gurobipy\n",
            "  Downloading gurobipy-9.5.1-cp37-cp37m-manylinux2014_x86_64.whl (11.5 MB)\n",
            "\u001b[K     |████████████████████████████████| 11.5 MB 5.4 MB/s \n",
            "\u001b[?25hInstalling collected packages: gurobipy\n",
            "Successfully installed gurobipy-9.5.1\n"
          ]
        }
      ],
      "source": [
        "%pip install gurobipy\n",
        "import gurobipy as grb\n",
        "import numpy as np\n",
        "import math\n",
        "import matplotlib.pyplot as plt\n",
        "import scipy.stats"
      ]
    },
    {
      "cell_type": "markdown",
      "source": [
        "##Q4.1\n",
        "Step1: Define decision variables<br>\n",
        "Number of the cases should be allocated to different regions<br>\n",
        "*Xne, Xse, Xmw, Xw*<br>\n",
        "<br>\n",
        "Step2: Define objective function based on the decision variables<br>\n",
        "Find a optimal distribution plan with maximum profit<br>\n",
        "max f(x) = 1.6 * Xne + 1.4 * Xse + 1.9 * Xmw + 1.2 * Xw<br>\n",
        "<br>\n",
        "Step3: Construct constraints on the decision variables<br>\n",
        "*Limited capacity*<br>\n",
        "Xne + Xse + Xmw + Xw = 2000 * 0.6<br>\n",
        "*Minimum requirements to be met in each region*<br>\n",
        "620 * 0.5 <= Xne<br>\n",
        "490 * 0.5 <= Xse<br>\n",
        "510 * 0.5 <= Xmw<br>\n",
        "380 * 0.5 <= Xw<br>\n",
        "*Maximum requirements could be met in each region*<br>\n",
        "Xne <= 620 * 0.7<br>\n",
        "Xse <= 490 * 0.7<br>\n",
        "Xmw <= 510 * 0.7<br>\n",
        "Xw <= 380 * 0.7<br>\n"
      ],
      "metadata": {
        "id": "50dIwwi7zHGr"
      }
    },
    {
      "cell_type": "code",
      "source": [
        "model = grb.Model(\"Q4_1\")\n",
        "\n",
        "x_ne = model.addVar(vtype = grb.GRB.CONTINUOUS, name = \"x_ne\")\n",
        "x_se = model.addVar(vtype = grb.GRB.CONTINUOUS, name = \"x_se\")\n",
        "x_mw = model.addVar(vtype = grb.GRB.CONTINUOUS, name = \"x_mw\")\n",
        "x_w = model.addVar(vtype = grb.GRB.CONTINUOUS, name = \"x_w\")"
      ],
      "metadata": {
        "id": "kZGKb4UG2trB"
      },
      "execution_count": null,
      "outputs": []
    },
    {
      "cell_type": "code",
      "source": [
        "#Constraints that assure all acres are allocated\n",
        "model.addConstr((x_ne + x_se + x_mw + x_w) == 2000 * 0.6)\n",
        "\n",
        "model.addConstr(620*0.5 <= x_ne)\n",
        "model.addConstr(490*0.5 <= x_se)\n",
        "model.addConstr(510*0.5 <= x_mw)\n",
        "model.addConstr(380*0.5 <= x_w)\n",
        "model.addConstr(x_ne <= 620*0.7)\n",
        "model.addConstr(x_se <= 490*0.7)\n",
        "model.addConstr(x_mw <= 510*0.7)\n",
        "model.addConstr(x_w <= 380*0.7)"
      ],
      "metadata": {
        "colab": {
          "base_uri": "https://localhost:8080/"
        },
        "id": "7IoPVL0_28mP",
        "outputId": "8f171d98-582d-448c-baea-ce786d9b9347"
      },
      "execution_count": null,
      "outputs": [
        {
          "output_type": "execute_result",
          "data": {
            "text/plain": [
              "<gurobi.Constr *Awaiting Model Update*>"
            ]
          },
          "metadata": {},
          "execution_count": 18
        }
      ]
    },
    {
      "cell_type": "code",
      "source": [
        "obj = (1.6 * x_ne + 1.4 * x_se + 1.9 * x_mw + 1.2 * x_w)\n",
        "model.setObjective(obj ,grb.GRB.MAXIMIZE)\n",
        "model.update()\n",
        "model.optimize()"
      ],
      "metadata": {
        "colab": {
          "base_uri": "https://localhost:8080/"
        },
        "id": "kPIoGIdc4DME",
        "outputId": "daa4ec3e-07d9-44be-d137-08dc9831a5de"
      },
      "execution_count": null,
      "outputs": [
        {
          "output_type": "stream",
          "name": "stdout",
          "text": [
            "Gurobi Optimizer version 9.5.1 build v9.5.1rc2 (linux64)\n",
            "Thread count: 1 physical cores, 2 logical processors, using up to 2 threads\n",
            "Optimize a model with 9 rows, 4 columns and 12 nonzeros\n",
            "Model fingerprint: 0x53f4c17d\n",
            "Coefficient statistics:\n",
            "  Matrix range     [1e+00, 1e+00]\n",
            "  Objective range  [1e+00, 2e+00]\n",
            "  Bounds range     [0e+00, 0e+00]\n",
            "  RHS range        [2e+02, 1e+03]\n",
            "Presolve removed 8 rows and 0 columns\n",
            "Presolve time: 0.02s\n",
            "Presolved: 1 rows, 4 columns, 4 nonzeros\n",
            "\n",
            "Iteration    Objective       Primal Inf.    Dual Inf.      Time\n",
            "       0    1.9315000e+03   1.225000e+01   0.000000e+00      0s\n",
            "       1    1.9021000e+03   0.000000e+00   0.000000e+00      0s\n",
            "\n",
            "Solved in 1 iterations and 0.03 seconds (0.00 work units)\n",
            "Optimal objective  1.902100000e+03\n"
          ]
        }
      ]
    },
    {
      "cell_type": "code",
      "source": [
        "model.x"
      ],
      "metadata": {
        "colab": {
          "base_uri": "https://localhost:8080/"
        },
        "id": "7sMIwaCh-9X7",
        "outputId": "c2038ccf-0221-4f24-9d70-cb3f27657e1f"
      },
      "execution_count": null,
      "outputs": [
        {
          "output_type": "execute_result",
          "data": {
            "text/plain": [
              "[408.0, 245.0, 357.0, 190.0]"
            ]
          },
          "metadata": {},
          "execution_count": 26
        }
      ]
    },
    {
      "cell_type": "markdown",
      "source": [
        "##Q4.3\n",
        "Step1: Define decision variables<br>\n",
        "Number of ton of ingredient included in the cattle feed<br>\n",
        "*Xo, Xc, Xa, Xu*<br>\n",
        "<br>\n",
        "Step2: Define objective function based on the decision variables<br>\n",
        "Find a minimum cost way to produce feed<br>\n",
        "min f(x) = 200 * Xo + 150 * Xc + 100 * Xa + 75 * Xh<br>\n",
        "<br>\n",
        "Step3: Construct constraints on the decision variables<br>\n",
        "*composition constraint*<br>\n",
        "60 * Xo + 80 * Xc + 55 * Xa + 40 * Xh >= 60<br>\n",
        "50 * Xo + 70 * Xc + 40 * Xa + 100 * Xh <= 60<br>\n",
        "90 * Xo + 30 * Xc + 60 * Xa + 80 * Xh >= 60<br>\n",
        "60 * Xo + 80 * Xc + 55 * Xa + 40 * Xh <= 100<br>\n",
        "50 * Xo + 70 * Xc + 40 * Xa + 100 * Xh >= 0<br>\n",
        "90 * Xo + 30 * Xc + 60 * Xa + 80 * Xh <= 100<br>\n"
      ],
      "metadata": {
        "id": "2M9ru59P4a5u"
      }
    },
    {
      "cell_type": "code",
      "source": [
        "model2 = grb.Model(\"EX2\")\n",
        "\n",
        "x_o = model2.addVar(vtype = grb.GRB.CONTINUOUS, name = \"x_o\")\n",
        "x_c = model2.addVar(vtype = grb.GRB.CONTINUOUS, name = \"x_c\")\n",
        "x_a = model2.addVar(vtype = grb.GRB.CONTINUOUS, name = \"x_a\")\n",
        "x_h = model2.addVar(vtype = grb.GRB.CONTINUOUS, name = \"x_h\")"
      ],
      "metadata": {
        "id": "CYOhK_856ZO1"
      },
      "execution_count": null,
      "outputs": []
    },
    {
      "cell_type": "code",
      "source": [
        "#Constraints that assure all acres are allocated\n",
        "model2.addConstr(60 * x_o + 80 * x_c + 55 * x_a + 40 * x_h >= 60)\n",
        "model2.addConstr(50 * x_o + 70 * x_c + 40 * x_a + 100 * x_h <= 60)\n",
        "model2.addConstr(90 * x_o + 30 * x_c + 60 * x_a + 80 * x_h >= 60)\n",
        "model2.addConstr(60 * x_o + 80 * x_c + 55 * x_a + 40 * x_h <= 100)\n",
        "model2.addConstr(50 * x_o + 70 * x_c + 40 * x_a + 100 * x_h >= 0)\n",
        "model2.addConstr(90 * x_o + 30 * x_c + 60 * x_a + 80 * x_h <= 100)"
      ],
      "metadata": {
        "colab": {
          "base_uri": "https://localhost:8080/"
        },
        "id": "LgFeV5Lp6y5b",
        "outputId": "aa2548f5-3c62-435a-d6ce-91cc892fd6f4"
      },
      "execution_count": null,
      "outputs": [
        {
          "output_type": "execute_result",
          "data": {
            "text/plain": [
              "<gurobi.Constr *Awaiting Model Update*>"
            ]
          },
          "metadata": {},
          "execution_count": 30
        }
      ]
    },
    {
      "cell_type": "code",
      "source": [
        "obj = (200 * x_o + 150 * x_c + 100 * x_a + 75 * x_h)\n",
        "model2.setObjective(obj ,grb.GRB.MINIMIZE)\n",
        "model2.update()\n",
        "model2.optimize()"
      ],
      "metadata": {
        "colab": {
          "base_uri": "https://localhost:8080/"
        },
        "id": "LpGr7anE7OuD",
        "outputId": "d290781f-98f4-4bef-fc66-9edc9999fd06"
      },
      "execution_count": null,
      "outputs": [
        {
          "output_type": "stream",
          "name": "stdout",
          "text": [
            "Gurobi Optimizer version 9.5.1 build v9.5.1rc2 (linux64)\n",
            "Thread count: 1 physical cores, 2 logical processors, using up to 2 threads\n",
            "Optimize a model with 6 rows, 4 columns and 24 nonzeros\n",
            "Model fingerprint: 0x73a758ef\n",
            "Coefficient statistics:\n",
            "  Matrix range     [3e+01, 1e+02]\n",
            "  Objective range  [8e+01, 2e+02]\n",
            "  Bounds range     [0e+00, 0e+00]\n",
            "  RHS range        [6e+01, 1e+02]\n",
            "Presolve removed 3 rows and 0 columns\n",
            "Presolve time: 0.02s\n",
            "Presolved: 3 rows, 6 columns, 14 nonzeros\n",
            "\n",
            "Iteration    Objective       Primal Inf.    Dual Inf.      Time\n",
            "       0    0.0000000e+00   1.500000e+01   0.000000e+00      0s\n",
            "       2    1.0909091e+02   0.000000e+00   0.000000e+00      0s\n",
            "\n",
            "Solved in 2 iterations and 0.03 seconds (0.00 work units)\n",
            "Optimal objective  1.090909091e+02\n"
          ]
        }
      ]
    },
    {
      "cell_type": "code",
      "source": [
        "model2.x"
      ],
      "metadata": {
        "colab": {
          "base_uri": "https://localhost:8080/"
        },
        "id": "IsdisSOK_AGB",
        "outputId": "31d8c6cb-861f-443d-9fad-6dd992c1169b"
      },
      "execution_count": null,
      "outputs": [
        {
          "output_type": "execute_result",
          "data": {
            "text/plain": [
              "[0.0, 0.0, 1.0909090909090908, 0.0]"
            ]
          },
          "metadata": {},
          "execution_count": 32
        }
      ]
    },
    {
      "cell_type": "markdown",
      "source": [
        "##Q4.4\n",
        "Step1: Define decision variables<br>\n",
        "Number of barrel of four different gasolines\n",
        "X1, X2, X3, X4<br>\n",
        "<br>\n",
        "Step2: Define objective function based on the decision variables<br>\n",
        "Find a minimum cost way to produce qualified gasoline<br>\n",
        "min f(x) = 48 * X1 + 43 * X2 + 58 * X3 + 46 * X4<br>\n",
        "<br>\n",
        "Step3: Construct constraints on the decision variables<br>\n",
        "*Constraints for first index*<br>\n",
        "99 * X1 + 70 * X2 + 78 * X3 + 91 * X4 >= 85<br>\n",
        "99 * X1 + 70 * X2 + 78 * X3 + 91 * X4 <= 90<br>\n",
        "*Constraints for second index*<br>\n",
        "210 * X1 + 335 * X2 + 280 * X3 + 265 * X4 >= 270<br>\n",
        "210 * X1 + 335 * X2 + 280 * X3 + 265 * X4 <= 280<br>"
      ],
      "metadata": {
        "id": "5VAZMnQV7tRT"
      }
    },
    {
      "cell_type": "code",
      "source": [
        "model3 = grb.Model(\"EX2\")\n",
        "\n",
        "x_1 = model3.addVar(vtype = grb.GRB.CONTINUOUS, name = \"x_1\")\n",
        "x_2 = model3.addVar(vtype = grb.GRB.CONTINUOUS, name = \"x_2\")\n",
        "x_3 = model3.addVar(vtype = grb.GRB.CONTINUOUS, name = \"x_3\")\n",
        "x_4 = model3.addVar(vtype = grb.GRB.CONTINUOUS, name = \"x_4\")"
      ],
      "metadata": {
        "id": "AdErF977-Ml4"
      },
      "execution_count": null,
      "outputs": []
    },
    {
      "cell_type": "code",
      "source": [
        "#Constraints that assure all acres are allocated\n",
        "model3.addConstr(99 * x_1 + 70 * x_2 + 78 * x_3 + 91 * x_4 >= 85)\n",
        "model3.addConstr(99 * x_1 + 70 * x_2 + 78 * x_3 + 91 * x_4 <= 90)\n",
        "model3.addConstr(210 * x_1 + 335 * x_2 + 280 * x_3 + 265 * x_4 >= 270)\n",
        "model3.addConstr(210 * x_1 + 335 * x_2 + 280 * x_3 + 265 * x_4 <= 280)"
      ],
      "metadata": {
        "colab": {
          "base_uri": "https://localhost:8080/"
        },
        "id": "o_3iwVOQ-VmN",
        "outputId": "55544fcd-d826-4bd6-b7f7-a0100357a5db"
      },
      "execution_count": null,
      "outputs": [
        {
          "output_type": "execute_result",
          "data": {
            "text/plain": [
              "<gurobi.Constr *Awaiting Model Update*>"
            ]
          },
          "metadata": {},
          "execution_count": 24
        }
      ]
    },
    {
      "cell_type": "code",
      "source": [
        "obj = (48 * x_1 + 43 * x_2 + 58 * x_3 + 46 * x_4)\n",
        "model3.setObjective(obj ,grb.GRB.MINIMIZE)\n",
        "model3.update()\n",
        "model3.optimize()"
      ],
      "metadata": {
        "colab": {
          "base_uri": "https://localhost:8080/"
        },
        "id": "7_fD2WS3-uMV",
        "outputId": "9a71de43-0460-48fd-b701-7358c3406f30"
      },
      "execution_count": null,
      "outputs": [
        {
          "output_type": "stream",
          "name": "stdout",
          "text": [
            "Gurobi Optimizer version 9.5.1 build v9.5.1rc2 (linux64)\n",
            "Thread count: 1 physical cores, 2 logical processors, using up to 2 threads\n",
            "Optimize a model with 4 rows, 4 columns and 16 nonzeros\n",
            "Model fingerprint: 0x3bd3e2ad\n",
            "Coefficient statistics:\n",
            "  Matrix range     [7e+01, 3e+02]\n",
            "  Objective range  [4e+01, 6e+01]\n",
            "  Bounds range     [0e+00, 0e+00]\n",
            "  RHS range        [8e+01, 3e+02]\n",
            "Presolve removed 2 rows and 0 columns\n",
            "Presolve time: 0.01s\n",
            "Presolved: 2 rows, 6 columns, 10 nonzeros\n",
            "\n",
            "Iteration    Objective       Primal Inf.    Dual Inf.      Time\n",
            "       0    0.0000000e+00   2.750000e+01   0.000000e+00      0s\n",
            "       2    4.4271889e+01   0.000000e+00   0.000000e+00      0s\n",
            "\n",
            "Solved in 2 iterations and 0.02 seconds (0.00 work units)\n",
            "Optimal objective  4.427188940e+01\n"
          ]
        }
      ]
    },
    {
      "cell_type": "code",
      "source": [
        "model3.x"
      ],
      "metadata": {
        "colab": {
          "base_uri": "https://localhost:8080/"
        },
        "id": "wJv8x-bu_EV3",
        "outputId": "ab4c2e59-d7d6-4abb-b2bd-2154bd545c1d"
      },
      "execution_count": null,
      "outputs": [
        {
          "output_type": "execute_result",
          "data": {
            "text/plain": [
              "[0.0, 0.1713447842480098, 0.0, 0.8022622538751574]"
            ]
          },
          "metadata": {},
          "execution_count": 28
        }
      ]
    }
  ]
}