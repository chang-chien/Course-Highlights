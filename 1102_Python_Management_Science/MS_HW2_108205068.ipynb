{
  "nbformat": 4,
  "nbformat_minor": 0,
  "metadata": {
    "colab": {
      "provenance": []
    },
    "kernelspec": {
      "name": "python3",
      "display_name": "Python 3"
    },
    "language_info": {
      "name": "python"
    }
  },
  "cells": [
    {
      "cell_type": "markdown",
      "source": [
        "###108205068 財政三乙 張簡宇庭\n",
        "Import Basic Kit"
      ],
      "metadata": {
        "id": "O7diGHBIdVCC"
      }
    },
    {
      "cell_type": "code",
      "execution_count": null,
      "metadata": {
        "colab": {
          "base_uri": "https://localhost:8080/"
        },
        "id": "wLv_3ABtbgXe",
        "outputId": "35b51a60-7623-458d-e01e-22f479757647"
      },
      "outputs": [
        {
          "output_type": "stream",
          "name": "stdout",
          "text": [
            "Collecting gurobipy\n",
            "  Downloading gurobipy-9.5.1-cp37-cp37m-manylinux2014_x86_64.whl (11.5 MB)\n",
            "\u001b[K     |████████████████████████████████| 11.5 MB 977 kB/s \n",
            "\u001b[?25hInstalling collected packages: gurobipy\n",
            "Successfully installed gurobipy-9.5.1\n"
          ]
        }
      ],
      "source": [
        "%pip install gurobipy\n",
        "import gurobipy as grb\n",
        "import numpy as np\n",
        "import math\n",
        "import matplotlib.pyplot as plt\n",
        "import scipy.stats"
      ]
    },
    {
      "cell_type": "markdown",
      "source": [
        "##Q4.9\n",
        "Step1: Define decision variables<br>\n",
        "X1: Number of model A's assembled and sold<br>\n",
        "X2: Number of model B's assembled and sold<br>\n",
        "X3: Number of short legs manufactured<br>\n",
        "X4: Number of long legs manufactured<br>\n",
        "X5: Number of tabletops manufactured<br>\n",
        "<br>\n",
        "Step2: Define objective function based on the decision variables<br>\n",
        "Find a optimal distribution plan with maximum profit<br>\n",
        "max f(x) = 30 * X1 + 45 * X2<br>\n",
        "<br>\n",
        "Step3: Construct constraints on the decision variables<br>\n",
        "*Limited capacity*<br>\n",
        "0.3 * X1 + 0.3 * X2 + 0.1 * X3 + 0.15 * X4 + 0.5 * X5 <= 80<br>\n",
        "1.5 * X3 + 2.5 * X4 <= 500<br>\n",
        "*relationship between decision variables*<br>\n",
        "X3 = 4 * X1<br>\n",
        "X4 = 4 * X2<br>\n",
        "X5 = X1 + X2<br>\n",
        "*Minimum requirements to be met*<br>\n",
        "X1 >= 0<br>\n",
        "X2 >= 0<br>\n",
        "X3 >= 0<br>\n",
        "X4 >= 0<br>\n",
        "X5 >= 0<br>\n"
      ],
      "metadata": {
        "id": "7bDUcLjpddrr"
      }
    },
    {
      "cell_type": "code",
      "source": [
        "model = grb.Model(\"Q4_9\")\n",
        "X1 = model.addVar(vtype = grb.GRB.CONTINUOUS, name = \"X1\")\n",
        "X2 = model.addVar(vtype = grb.GRB.CONTINUOUS, name = \"X2\")\n",
        "X3 = model.addVar(vtype = grb.GRB.CONTINUOUS, name = \"X3\")\n",
        "X4 = model.addVar(vtype = grb.GRB.CONTINUOUS, name = \"X4\")\n",
        "X5 = model.addVar(vtype = grb.GRB.CONTINUOUS, name = \"X5\")"
      ],
      "metadata": {
        "id": "ErnMxOUee9ZB"
      },
      "execution_count": null,
      "outputs": []
    },
    {
      "cell_type": "code",
      "source": [
        "#Constraints that assure all acres are allocated\n",
        "model.addConstr(0.3 * X1 + 0.3 * X2 + 0.1 * X3 + 0.15 * X4 + 0.5 * X5 <= 80)\n",
        "model.addConstr(1.5 * X3 + 2.5 * X4 <= 500)\n",
        "model.addConstr(X1 >= 0)\n",
        "model.addConstr(X2 >= 0)\n",
        "model.addConstr(X3 == 4 * X1)\n",
        "model.addConstr(X4 == 4 * X2)\n",
        "model.addConstr(X5 == X1 + X2)"
      ],
      "metadata": {
        "colab": {
          "base_uri": "https://localhost:8080/"
        },
        "id": "UmHM0cgmfHOm",
        "outputId": "4df1f135-07b2-467d-edbc-a96f46f0efc8"
      },
      "execution_count": null,
      "outputs": [
        {
          "output_type": "execute_result",
          "data": {
            "text/plain": [
              "<gurobi.Constr *Awaiting Model Update*>"
            ]
          },
          "metadata": {},
          "execution_count": 38
        }
      ]
    },
    {
      "cell_type": "code",
      "source": [
        "obj = (30 * X1 + 45 * X2)\n",
        "model.setObjective(obj ,grb.GRB.MAXIMIZE)\n",
        "model.update()\n",
        "model.optimize()"
      ],
      "metadata": {
        "colab": {
          "base_uri": "https://localhost:8080/"
        },
        "id": "-DWU7DXOfb6A",
        "outputId": "74827517-94be-4854-f553-e5ce0b4c1e6b"
      },
      "execution_count": null,
      "outputs": [
        {
          "output_type": "stream",
          "name": "stdout",
          "text": [
            "Gurobi Optimizer version 9.5.1 build v9.5.1rc2 (linux64)\n",
            "Thread count: 1 physical cores, 2 logical processors, using up to 2 threads\n",
            "Optimize a model with 7 rows, 5 columns and 16 nonzeros\n",
            "Model fingerprint: 0xdab950eb\n",
            "Coefficient statistics:\n",
            "  Matrix range     [1e-01, 4e+00]\n",
            "  Objective range  [3e+01, 4e+01]\n",
            "  Bounds range     [0e+00, 0e+00]\n",
            "  RHS range        [8e+01, 5e+02]\n",
            "Presolve removed 5 rows and 3 columns\n",
            "Presolve time: 0.02s\n",
            "Presolved: 2 rows, 2 columns, 4 nonzeros\n",
            "\n",
            "Iteration    Objective       Primal Inf.    Dual Inf.      Time\n",
            "       0    2.5714286e+03   1.864950e+01   0.000000e+00      0s\n",
            "       2    2.3333333e+03   0.000000e+00   0.000000e+00      0s\n",
            "\n",
            "Solved in 2 iterations and 0.04 seconds (0.00 work units)\n",
            "Optimal objective  2.333333333e+03\n"
          ]
        }
      ]
    },
    {
      "cell_type": "code",
      "source": [
        "model.x"
      ],
      "metadata": {
        "colab": {
          "base_uri": "https://localhost:8080/"
        },
        "id": "GN8ggtpDfi5O",
        "outputId": "33f27ccb-ccd3-48ab-fe85-26c6b75e43ca"
      },
      "execution_count": null,
      "outputs": [
        {
          "output_type": "execute_result",
          "data": {
            "text/plain": [
              "[27.77777777777777,\n",
              " 33.333333333333336,\n",
              " 111.11111111111109,\n",
              " 133.33333333333334,\n",
              " 61.11111111111111]"
            ]
          },
          "metadata": {},
          "execution_count": 40
        }
      ]
    },
    {
      "cell_type": "code",
      "source": [],
      "metadata": {
        "id": "fU9Jy28tfjwu"
      },
      "execution_count": null,
      "outputs": []
    }
  ]
}