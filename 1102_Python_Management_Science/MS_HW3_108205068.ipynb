{
  "nbformat": 4,
  "nbformat_minor": 0,
  "metadata": {
    "colab": {
      "provenance": []
    },
    "kernelspec": {
      "name": "python3",
      "display_name": "Python 3"
    },
    "language_info": {
      "name": "python"
    }
  },
  "cells": [
    {
      "cell_type": "markdown",
      "source": [
        "###108205068 財政三乙 張簡宇庭\n",
        "Import Basic Kit"
      ],
      "metadata": {
        "id": "T0NgY5RV_TxD"
      }
    },
    {
      "cell_type": "code",
      "execution_count": null,
      "metadata": {
        "colab": {
          "base_uri": "https://localhost:8080/"
        },
        "id": "hhk4PRgT_Nv1",
        "outputId": "30416f69-6bcb-4a9d-e7fd-d0cca641d241"
      },
      "outputs": [
        {
          "output_type": "stream",
          "name": "stdout",
          "text": [
            "Collecting gurobipy\n",
            "  Downloading gurobipy-9.5.1-cp37-cp37m-manylinux2014_x86_64.whl (11.5 MB)\n",
            "\u001b[K     |████████████████████████████████| 11.5 MB 3.2 MB/s \n",
            "\u001b[?25hInstalling collected packages: gurobipy\n",
            "Successfully installed gurobipy-9.5.1\n"
          ]
        }
      ],
      "source": [
        "%pip install gurobipy\n",
        "import gurobipy as grb\n",
        "import numpy as np\n",
        "import math\n",
        "import matplotlib.pyplot as plt\n",
        "import scipy.stats"
      ]
    },
    {
      "cell_type": "markdown",
      "source": [
        "##Q4.13\n",
        "Step1: Define decision variables<br>\n",
        "Number of the employees starting to work from 5 A.M. until 10A.M.<br>\n",
        "(The busers will keep working for 4 hours)<br>\n",
        "*X1, X2, X3, X4, X5, X6*<br>\n",
        "<br>\n",
        "Step2: Define objective function based on the decision variables<br>\n",
        "Find a optimal distribution plan with maximum profit<br>\n",
        "min f(x) = 28 * ( X1 + X2 + X3 ) + 24 * ( X4 + X5 + X6 )<br>\n",
        "<br>\n",
        "Step3: Construct constraints on the decision variables<br>\n",
        "*Minimum requirements to be met in each period*<br>\n",
        "X1 >= 2<br>\n",
        "X1 + X2 >= 3<br>\n",
        "X1 + X2 + X3 >= 5<br>\n",
        "X1 + X2 + X3 + X4 >= 5<br>\n",
        "X2 + X3 + X4 + X5 >= 3<br>\n",
        "X3 + X4 + X5 + X6 >= 2<br>\n",
        "X4 + X5 + X6 >= 4<br>\n",
        "X5 + X6 >= 6<br>\n",
        "X6 >= 3<br>\n"
      ],
      "metadata": {
        "id": "6VB7sgJ3_XSQ"
      }
    },
    {
      "cell_type": "code",
      "source": [
        "model = grb.Model(\"Q4_13\")\n",
        "\n",
        "X1 = model.addVar(vtype = grb.GRB.INTEGER, name = \"X1\")\n",
        "X2 = model.addVar(vtype = grb.GRB.INTEGER, name = \"X2\")\n",
        "X3 = model.addVar(vtype = grb.GRB.INTEGER, name = \"X3\")\n",
        "X4 = model.addVar(vtype = grb.GRB.INTEGER, name = \"X4\")\n",
        "X5 = model.addVar(vtype = grb.GRB.INTEGER, name = \"X5\")\n",
        "X6 = model.addVar(vtype = grb.GRB.INTEGER, name = \"X6\")"
      ],
      "metadata": {
        "id": "awzKJ0oSBAnL"
      },
      "execution_count": null,
      "outputs": []
    },
    {
      "cell_type": "code",
      "source": [
        "#Constraints that assure all acres are allocated\n",
        "model.addConstr(X1 >= 2)\n",
        "model.addConstr(X1 + X2 >= 3)\n",
        "model.addConstr(X1 + X2 + X3 >= 5)\n",
        "model.addConstr(X1 + X2 + X3 + X4 >= 5)\n",
        "model.addConstr(X2 + X3 + X4 + X5 >= 3)\n",
        "model.addConstr(X3 + X4 + X5 + X6 >= 2)\n",
        "model.addConstr(X4 + X5 + X6 >= 4)\n",
        "model.addConstr(X5 + X6 >= 6)\n",
        "model.addConstr(X6 >= 3)"
      ],
      "metadata": {
        "colab": {
          "base_uri": "https://localhost:8080/"
        },
        "id": "KBJxUTt9BMwr",
        "outputId": "f095d881-7d3f-4f92-99e1-ac91c69f4bda"
      },
      "execution_count": null,
      "outputs": [
        {
          "output_type": "execute_result",
          "data": {
            "text/plain": [
              "<gurobi.Constr *Awaiting Model Update*>"
            ]
          },
          "metadata": {},
          "execution_count": 52
        }
      ]
    },
    {
      "cell_type": "code",
      "source": [
        "obj = (28 * ( X1 + X2 + X3 ) + 24 * ( X4 + X5 + X6 ))\n",
        "model.setObjective(obj ,grb.GRB.MINIMIZE)\n",
        "model.update()\n",
        "model.optimize()"
      ],
      "metadata": {
        "colab": {
          "base_uri": "https://localhost:8080/"
        },
        "id": "0jF4baAKBkN9",
        "outputId": "d39fb11d-f895-4c9b-da0d-d69581d349cf"
      },
      "execution_count": null,
      "outputs": [
        {
          "output_type": "stream",
          "name": "stdout",
          "text": [
            "Gurobi Optimizer version 9.5.1 build v9.5.1rc2 (linux64)\n",
            "Thread count: 1 physical cores, 2 logical processors, using up to 2 threads\n",
            "Optimize a model with 9 rows, 6 columns and 24 nonzeros\n",
            "Model fingerprint: 0x03c875d2\n",
            "Variable types: 0 continuous, 6 integer (0 binary)\n",
            "Coefficient statistics:\n",
            "  Matrix range     [1e+00, 1e+00]\n",
            "  Objective range  [2e+01, 3e+01]\n",
            "  Bounds range     [0e+00, 0e+00]\n",
            "  RHS range        [2e+00, 6e+00]\n",
            "Found heuristic solution: objective 284.0000000\n",
            "Presolve removed 9 rows and 6 columns\n",
            "Presolve time: 0.00s\n",
            "Presolve: All rows and columns removed\n",
            "\n",
            "Explored 0 nodes (0 simplex iterations) in 0.02 seconds (0.00 work units)\n",
            "Thread count was 1 (of 2 available processors)\n",
            "\n",
            "Solution count 1: 284 \n",
            "\n",
            "Optimal solution found (tolerance 1.00e-04)\n",
            "Best objective 2.840000000000e+02, best bound 2.840000000000e+02, gap 0.0000%\n"
          ]
        }
      ]
    },
    {
      "cell_type": "code",
      "source": [
        "model.x"
      ],
      "metadata": {
        "colab": {
          "base_uri": "https://localhost:8080/"
        },
        "id": "BKtKYR3iB8s7",
        "outputId": "f6a3f1c4-3ba7-4fda-974b-2ad461c2526f"
      },
      "execution_count": null,
      "outputs": [
        {
          "output_type": "execute_result",
          "data": {
            "text/plain": [
              "[2.0, 3.0, -0.0, 0.0, 3.0, 3.0]"
            ]
          },
          "metadata": {},
          "execution_count": 54
        }
      ]
    },
    {
      "cell_type": "markdown",
      "source": [
        "##Q9.2\n",
        "Step1: Define decision variables<br>\n",
        "Number of player in starting team<br>\n",
        "*X1, X2, X3, X4, X5, X6, X7*<br>\n",
        "<br>\n",
        "Step2: Define objective function based on the decision variables<br>\n",
        "Find a minimum cost way to produce feed<br>\n",
        "MAX f(x) = 3 * X1 + 2 * X2 + 2 * X3 + X4 + 3 * X5 + 3 * X6 + X7<br>\n",
        "<br>\n",
        "Step3: Construct constraints on the decision variables<br>\n",
        "*composition constraint*<br>\n",
        "*restrictions 1*<br>\n",
        "X1 + X2 + X3 + X4 + X5 + X6 + X7 = 5<br>\n",
        "X1 + X3 + X4 + X7 >= 4<br>\n",
        "X3 + X4 + X5 + X6 + X7 >= 2<br>\n",
        "X2 + X4 + X6 >= 1<br>\n",
        "*restrictions 2*<br>\n",
        "3 * X1 + 2 * X2 + 2 * X3 + X4 + 3 * X5 + 3 * X6 + 3 * X7 >= 10<br>\n",
        "3 * X1 + X2 + 3 * X3 + 3 * X4 + 3 * X5 + X6 + 2 * X7 >= 10<br>\n",
        "X1 + 3 * X2 + 2 * X3 + 3 *X4 + 3 * X5 + X6 + 2 * X7 >= 10<br>\n",
        "*restrictions 3*<br>\n",
        "X3 + X6 = 1<br>\n",
        "*restrictions 4*<br>\n",
        "2 * X1 <= X4 + X5<br>\n",
        "*restrictions 5*<br>\n",
        "X2 + X3 >= 1<br>\n",
        "\n",
        "\n"
      ],
      "metadata": {
        "id": "ZnyjzNAiEw70"
      }
    },
    {
      "cell_type": "code",
      "source": [
        "model1 = grb.Model(\"Q9_1\")\n",
        "\n",
        "X1 = model1.addVar(ub = 1, vtype = grb.GRB.INTEGER, name = \"X1\")\n",
        "X2 = model1.addVar(ub = 1, vtype = grb.GRB.INTEGER, name = \"X2\")\n",
        "X3 = model1.addVar(ub = 1, vtype = grb.GRB.INTEGER, name = \"X3\")\n",
        "X4 = model1.addVar(ub = 1, vtype = grb.GRB.INTEGER, name = \"X4\")\n",
        "X5 = model1.addVar(ub = 1, vtype = grb.GRB.INTEGER, name = \"X5\")\n",
        "X6 = model1.addVar(ub = 1, vtype = grb.GRB.INTEGER, name = \"X6\")\n",
        "X7 = model1.addVar(ub = 1, vtype = grb.GRB.INTEGER, name = \"X7\")"
      ],
      "metadata": {
        "id": "sJBTSxryMjg7"
      },
      "execution_count": null,
      "outputs": []
    },
    {
      "cell_type": "code",
      "source": [
        "#Constraints that assure all acres are allocated\n",
        "model1.addConstr(X1 + X2 + X3 + X4 + X5 + X6 + X7 == 5)\n",
        "model1.addConstr(X1 + X3 + X5 + X7 >= 4)\n",
        "model1.addConstr(X3 + X4 + X5 + X6 + X7 >= 2)\n",
        "model1.addConstr(X2 + X4 + X6 >= 1)\n",
        "model1.addConstr(3 * X1 + 2 * X2 + 2 * X3 + X4 + 3 * X5 + 3 * X6 + 3 * X7 >= 10)\n",
        "model1.addConstr(3 * X1 + X2 + 3 * X3 + 3 * X4 + 3 * X5 + X6 + 2 * X7 >= 10)\n",
        "model1.addConstr(X1 + 3 * X2 + 2 * X3 + 3 * X4 + 3 * X5 + X6 + 2 * X7 >= 10)\n",
        "model1.addConstr(X3 + X6 == 1)\n",
        "model1.addConstr(2 * X1 <= X4 + X5)\n",
        "model1.addConstr(X2 + X3 >= 1)"
      ],
      "metadata": {
        "colab": {
          "base_uri": "https://localhost:8080/"
        },
        "id": "xS8O6NPBNKPL",
        "outputId": "d106e945-7286-4f80-ed6b-7c059c956fd1"
      },
      "execution_count": null,
      "outputs": [
        {
          "output_type": "execute_result",
          "data": {
            "text/plain": [
              "<gurobi.Constr *Awaiting Model Update*>"
            ]
          },
          "metadata": {},
          "execution_count": 74
        }
      ]
    },
    {
      "cell_type": "code",
      "source": [
        "obj = (28 * ( X1 + X2 + X3 ) + 24 * ( X4 + X5 + X6 ))\n",
        "model1.setObjective(obj ,grb.GRB.MINIMIZE)\n",
        "model1.update()\n",
        "model1.optimize()"
      ],
      "metadata": {
        "colab": {
          "base_uri": "https://localhost:8080/"
        },
        "id": "Rl_d9NuxNL5o",
        "outputId": "d6286832-44f4-4b0d-e9ce-47e15e96cbba"
      },
      "execution_count": null,
      "outputs": [
        {
          "output_type": "stream",
          "name": "stdout",
          "text": [
            "Gurobi Optimizer version 9.5.1 build v9.5.1rc2 (linux64)\n",
            "Thread count: 1 physical cores, 2 logical processors, using up to 2 threads\n",
            "Optimize a model with 40 rows, 7 columns and 188 nonzeros\n",
            "Model fingerprint: 0x5a8efd06\n",
            "Variable types: 0 continuous, 7 integer (0 binary)\n",
            "Coefficient statistics:\n",
            "  Matrix range     [1e+00, 3e+00]\n",
            "  Objective range  [2e+01, 3e+01]\n",
            "  Bounds range     [1e+00, 1e+00]\n",
            "  RHS range        [1e+00, 1e+01]\n",
            "\n",
            "Loaded MIP start from previous solve with objective 104\n",
            "\n",
            "Presolve removed 40 rows and 7 columns\n",
            "Presolve time: 0.00s\n",
            "Presolve: All rows and columns removed\n",
            "\n",
            "Explored 0 nodes (0 simplex iterations) in 0.02 seconds (0.00 work units)\n",
            "Thread count was 1 (of 2 available processors)\n",
            "\n",
            "Solution count 1: 104 \n",
            "\n",
            "Optimal solution found (tolerance 1.00e-04)\n",
            "Best objective 1.040000000000e+02, best bound 1.040000000000e+02, gap 0.0000%\n"
          ]
        }
      ]
    },
    {
      "cell_type": "code",
      "source": [
        "model1.x"
      ],
      "metadata": {
        "colab": {
          "base_uri": "https://localhost:8080/"
        },
        "id": "Rn5F8fY6QE4J",
        "outputId": "5d20b1bb-99b1-46c0-e236-a8f8b6dbfe4e"
      },
      "execution_count": null,
      "outputs": [
        {
          "output_type": "execute_result",
          "data": {
            "text/plain": [
              "[1.0, 0.0, 1.0, 1.0, 1.0, 0.0, 1.0]"
            ]
          },
          "metadata": {},
          "execution_count": 76
        }
      ]
    }
  ]
}