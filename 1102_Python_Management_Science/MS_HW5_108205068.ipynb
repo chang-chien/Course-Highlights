{
  "nbformat": 4,
  "nbformat_minor": 0,
  "metadata": {
    "colab": {
      "provenance": []
    },
    "kernelspec": {
      "name": "python3",
      "display_name": "Python 3"
    },
    "language_info": {
      "name": "python"
    }
  },
  "cells": [
    {
      "cell_type": "markdown",
      "source": [
        "###108205068 財政三乙 張簡宇庭\n",
        "Import Basic Kit"
      ],
      "metadata": {
        "id": "M0FnCvcfjbmT"
      }
    },
    {
      "cell_type": "code",
      "execution_count": null,
      "metadata": {
        "colab": {
          "base_uri": "https://localhost:8080/"
        },
        "id": "YRZFM1qXg2Wg",
        "outputId": "19e5889a-5f7e-477e-86b2-0ffea07bf3ac"
      },
      "outputs": [
        {
          "output_type": "stream",
          "name": "stdout",
          "text": [
            "Requirement already satisfied: gurobipy in /usr/local/lib/python3.7/dist-packages (9.5.1)\n"
          ]
        }
      ],
      "source": [
        "%pip install gurobipy\n",
        "import gurobipy as grb\n",
        "import numpy as np\n",
        "import math\n",
        "import matplotlib.pyplot as plt\n",
        "import scipy.stats"
      ]
    },
    {
      "cell_type": "markdown",
      "source": [
        "Q1<br>\n",
        "Step1: Define decision variables<br>\n",
        "x1, x2, x3 is the acres of land devoted to wheat, corn and sugar.<br>\n",
        "w1, w2 is the tones of wheat and corn sold.<br>\n",
        "w3 is the tones of the sugar beets sold at 36. <br>\n",
        "w4 is the tones of the sugar beets sold at 10. <br>\n",
        "y1, y2 is the tones of wheat and corn purchased.<br>\n",
        "j = 1, 2, 3 corresponding to \"above\", \"average\" and \"below\"<br>\n",
        "<br>\n",
        "Step2: Define objective function based on the decision variables<br>\n",
        "min f(x) = 150 * x1 + 230 * x2 + 260 * x3 <br>\n",
        "\\+ 1/3*(238 * y11 - 170 * w11 + 210 * y21 - 150 * w21 - 36 * w31 - 10 * w41)  <br>\n",
        "\\+ 1/3*(238 * y12 - 170 * w12 + 210 * y22 - 150 * w22 - 36 * w32 - 10 * w42) <br>\n",
        "\\+ 1/3*(238 * y13 - 170 * w13 + 210 * y23 - 150 * w23 - 36 * w33 - 10 * w43) <br>\n",
        "<br>\n",
        "Step3: Construct constraints on the decision variables<br>\n",
        "x1 + x2 + x3 <= 500<br>\n",
        "3 * x1 + y11 - w11 >= 200<br>\n",
        "3.6 * x2 + y21 - w21 >= 240<br>\n",
        "w31 + w41 <= 24 * x3<br>\n",
        "w31 <= 6000<br>\n",
        "2.5 * x1 + y12 - w12 >= 200<br>\n",
        "3 * x2 + y22 - w22 >= 240<br>\n",
        "w32 + w42 <= 20 * x3<br>\n",
        "w32 <= 6000<br>\n",
        "2 * x1 + y13 - w13 >= 200<br>\n",
        "2.4 * x2 + y23 - w23 >= 240<br>\n",
        "w33 + w43 <= 16 * x3<br>\n",
        "w33 <= 6000<br>\n",
        "x >= 0, y >= 0, w >= 0 <br>\n",
        "\n"
      ],
      "metadata": {
        "id": "JSqJ3_35jiPB"
      }
    },
    {
      "cell_type": "code",
      "source": [
        "mfarm = grb.Model('Farm')\n",
        "\n",
        "x1 = mfarm.addVar(vtype = grb.GRB.INTEGER, name = \"X1\")\n",
        "x2 = mfarm.addVar(vtype = grb.GRB.INTEGER, name = \"X2\")\n",
        "x3 = mfarm.addVar(vtype = grb.GRB.INTEGER, name = \"X3\")\n",
        "y11 = mfarm.addVar(vtype = grb.GRB.INTEGER, name = \"Y11\")\n",
        "y12 = mfarm.addVar(vtype = grb.GRB.INTEGER, name = \"Y12\")\n",
        "y13 = mfarm.addVar(vtype = grb.GRB.INTEGER, name = \"Y13\")\n",
        "y21 = mfarm.addVar(vtype = grb.GRB.INTEGER, name = \"Y21\")\n",
        "y22 = mfarm.addVar(vtype = grb.GRB.INTEGER, name = \"Y22\")\n",
        "y23 = mfarm.addVar(vtype = grb.GRB.INTEGER, name = \"Y23\")\n",
        "w11 = mfarm.addVar(vtype = grb.GRB.INTEGER, name = \"W11\")\n",
        "w12 = mfarm.addVar(vtype = grb.GRB.INTEGER, name = \"W12\")\n",
        "w13 = mfarm.addVar(vtype = grb.GRB.INTEGER, name = \"W13\")\n",
        "w21 = mfarm.addVar(vtype = grb.GRB.INTEGER, name = \"W21\")\n",
        "w22 = mfarm.addVar(vtype = grb.GRB.INTEGER, name = \"W22\")\n",
        "w23 = mfarm.addVar(vtype = grb.GRB.INTEGER, name = \"W23\")\n",
        "w31 = mfarm.addVar(vtype = grb.GRB.INTEGER, name = \"W31\")\n",
        "w32 = mfarm.addVar(vtype = grb.GRB.INTEGER, name = \"W32\")\n",
        "w33 = mfarm.addVar(vtype = grb.GRB.INTEGER, name = \"W33\")\n",
        "w41 = mfarm.addVar(vtype = grb.GRB.INTEGER, name = \"W41\")\n",
        "w42 = mfarm.addVar(vtype = grb.GRB.INTEGER, name = \"W42\")\n",
        "w43 = mfarm.addVar(vtype = grb.GRB.INTEGER, name = \"W43\")"
      ],
      "metadata": {
        "id": "TdLKsSsGjkEq"
      },
      "execution_count": null,
      "outputs": []
    },
    {
      "cell_type": "code",
      "source": [
        "\n",
        "mfarm.addConstr(x1 + x2 + x3 <= 500)\n",
        "mfarm.addConstr(3 * x1 + y11 - w11 >= 200)\n",
        "mfarm.addConstr(3.6 * x2 + y21 - w21 >= 240)\n",
        "mfarm.addConstr(w31 + w41 <= 24 * x3)\n",
        "mfarm.addConstr(w31 <= 6000)\n",
        "mfarm.addConstr(2.5 * x1 + y12 - w12 >= 200)\n",
        "mfarm.addConstr(3 * x2 + y22 - w22 >= 240)\n",
        "mfarm.addConstr(w32 + w42 <= 20 * x3)\n",
        "mfarm.addConstr(w32 <= 6000)\n",
        "mfarm.addConstr(2 * x1 + y13 - w13 >= 200)\n",
        "mfarm.addConstr(2.4 * x2 + y23 - w23 >= 240)\n",
        "mfarm.addConstr(w33 + w43 <= 16 * x3)\n",
        "mfarm.addConstr(x1 >= 0)\n",
        "mfarm.addConstr(x2 >= 0)\n",
        "mfarm.addConstr(x3 >= 0)\n",
        "mfarm.addConstr(y11 >= 0)\n",
        "mfarm.addConstr(y12 >= 0)\n",
        "mfarm.addConstr(y13 >= 0)\n",
        "mfarm.addConstr(y21 >= 0)\n",
        "mfarm.addConstr(y22 >= 0)\n",
        "mfarm.addConstr(y23 >= 0)\n",
        "mfarm.addConstr(w11 >= 0)\n",
        "mfarm.addConstr(w12 >= 0)\n",
        "mfarm.addConstr(w13 >= 0)\n",
        "mfarm.addConstr(w21 >= 0)\n",
        "mfarm.addConstr(w22 >= 0)\n",
        "mfarm.addConstr(w23 >= 0)\n",
        "mfarm.addConstr(w31 >= 0)\n",
        "mfarm.addConstr(w32 >= 0)\n",
        "mfarm.addConstr(w33 >= 0)\n",
        "mfarm.addConstr(w41 >= 0)\n",
        "mfarm.addConstr(w42 >= 0)\n",
        "mfarm.addConstr(w43 >= 0)\n",
        "\n",
        "\n",
        "obj = (150 * x1 + 230 * x2 + 260 * x3 + 1/3*(238 * y11 - 170 * w11 + 210 * y21 - 150 * w21 - 36 * w31 - 10 * w41) + 1/3*(238 * y12 - 170 * w12 + 210 * y22 - 150 * w22 - 36 * w32 - 10 * w42) + 1/3*(238 * y13 - 170 * w13 + 210 * y23 - 150 * w23 - 36 * w33 - 10 * w43))\n",
        "mfarm.setObjective(obj ,grb.GRB.MINIMIZE)\n",
        "mfarm.update()\n",
        "mfarm.optimize()"
      ],
      "metadata": {
        "colab": {
          "base_uri": "https://localhost:8080/"
        },
        "id": "NhA6YN-O33FD",
        "outputId": "d91c6d4b-5728-4696-afe2-83e87f86b339"
      },
      "execution_count": null,
      "outputs": [
        {
          "output_type": "stream",
          "name": "stdout",
          "text": [
            "Gurobi Optimizer version 9.5.1 build v9.5.1rc2 (linux64)\n",
            "Thread count: 1 physical cores, 2 logical processors, using up to 2 threads\n",
            "Optimize a model with 99 rows, 21 columns and 159 nonzeros\n",
            "Model fingerprint: 0xf6be2730\n",
            "Variable types: 0 continuous, 21 integer (0 binary)\n",
            "Coefficient statistics:\n",
            "  Matrix range     [1e+00, 2e+01]\n",
            "  Objective range  [3e+00, 3e+02]\n",
            "  Bounds range     [0e+00, 0e+00]\n",
            "  RHS range        [2e+02, 6e+03]\n",
            "Found heuristic solution: objective 98000.000000\n",
            "Presolve removed 91 rows and 8 columns\n",
            "Presolve time: 0.00s\n",
            "Presolved: 8 rows, 13 columns, 21 nonzeros\n",
            "Found heuristic solution: objective -69792.66667\n",
            "Variable types: 0 continuous, 13 integer (0 binary)\n",
            "Found heuristic solution: objective -70028.66667\n",
            "\n",
            "Root relaxation: objective -1.083900e+05, 9 iterations, 0.00 seconds (0.00 work units)\n",
            "\n",
            "    Nodes    |    Current Node    |     Objective Bounds      |     Work\n",
            " Expl Unexpl |  Obj  Depth IntInf | Incumbent    BestBd   Gap | It/Node Time\n",
            "\n",
            "*    0     0               0    -108390.0000 -108390.00  0.00%     -    0s\n",
            "\n",
            "Explored 1 nodes (9 simplex iterations) in 0.03 seconds (0.00 work units)\n",
            "Thread count was 2 (of 2 available processors)\n",
            "\n",
            "Solution count 4: -108390 -70028.7 -69792.7 98000 \n",
            "No other solutions better than -108390\n",
            "\n",
            "Optimal solution found (tolerance 1.00e-04)\n",
            "Best objective -1.083900000000e+05, best bound -1.083900000000e+05, gap 0.0000%\n"
          ]
        }
      ]
    },
    {
      "cell_type": "code",
      "source": [
        "mfarm.x"
      ],
      "metadata": {
        "colab": {
          "base_uri": "https://localhost:8080/"
        },
        "id": "J41SULro6Mcl",
        "outputId": "9a7b901c-5d2c-4a74-99b6-de029aa5fd0b"
      },
      "execution_count": null,
      "outputs": [
        {
          "output_type": "execute_result",
          "data": {
            "text/plain": [
              "[170.0,\n",
              " 80.0,\n",
              " 250.0,\n",
              " 0.0,\n",
              " -0.0,\n",
              " 0.0,\n",
              " -0.0,\n",
              " 0.0,\n",
              " 48.0,\n",
              " 310.0,\n",
              " 225.0,\n",
              " 140.0,\n",
              " 48.0,\n",
              " -0.0,\n",
              " -0.0,\n",
              " 6000.0,\n",
              " 5000.0,\n",
              " 4000.0,\n",
              " 0.0,\n",
              " 0.0,\n",
              " -0.0]"
            ]
          },
          "metadata": {},
          "execution_count": 11
        }
      ]
    },
    {
      "cell_type": "markdown",
      "source": [
        "Q2<br>\n",
        "Step1: Define decision variables<br>\n",
        "i = 1, 2 for Scenario A or B<br>\n",
        "j = 1, 2, 3, 4 for job<br>\n",
        "k = 1, 2, 3, 4 for person<br>\n",
        "\n",
        "<br>\n",
        "Step2: Define objective function based on the decision variables<br>\n",
        "min f(x) = 0.6 * (3*X111 + 4*X112 + 7*X113 + 4*X114 + 5*X121 + 2*X122 + 6*X123 + 1*X124 + 1*X131 + 4*X132 + 9*X133 + 12*X134 + 7*X141 + 7*X142 + 7*X143 + 7*X144) <br>\n",
        "+ 0.4 * (3*X211 + 4*X212 + 7*X213 + 4*X214 + 5*X221 + 2*X222 + 6*X223 + 1*X224 + 14*X231 + 13*X232 + 8*X233 + 6*X234 + 12*X241 + 15*X242 + 15*X243 + 8*X244)\n",
        "\n",
        "<br>\n",
        "Step3: Construct constraints on the decision variables<br>\n",
        "X111 + X112 + X113 + X114 = 1<BR>\n",
        "X121 + X122 + X123 + X124 = 1<BR>\n",
        "X131 + X132 + X133 + X134 = 1<BR>\n",
        "X141 + X142 + X143 + X144 = 1<BR>\n",
        "X111 + X121 + X131 + X141 = 1<BR>\n",
        "X112 + X122 + X132 + X142 = 1<BR>\n",
        "X113 + X123 + X133 + X143 = 1<BR>\n",
        "X114 + X124 + X134 + X144 = 1<BR>\n",
        "\n",
        "X211 + X212 + X213 + X214 = 1<BR>\n",
        "X221 + X222 + X223 + X224 = 1<BR>\n",
        "X231 + X232 + X233 + X234 = 1<BR>\n",
        "X241 + X242 + X243 + X244 = 1<BR>\n",
        "X211 + X221 + X231 + X241 = 1<BR>\n",
        "X212 + X222 + X232 + X242 = 1<BR>\n",
        "X213 + X223 + X233 + X243 = 1<BR>\n",
        "X214 + X224 + X234 + X244 = 1<BR>"
      ],
      "metadata": {
        "id": "j7-qbP4u6mOH"
      }
    },
    {
      "cell_type": "code",
      "source": [
        "probs = [0.6,0.4]\n",
        "mjob = grb.Model('Job')\n",
        "\n",
        "Value = [[[3, 4, 7, 4],[5, 2, 6, 1],[1, 4, 9, 12],[7, 7, 7, 7]],\n",
        "     [[3,4,7,4],[5,2,6,1],[14,13,8,6],[12,15,15,8]]]\n",
        "\n",
        "X = mjob.addVars([(i, j, k) for i in range(2) for j in range(4) for k in range(4)], vtype=grb.GRB.INTEGER, name=\"X\")\n",
        "obj = grb.quicksum(probs[i] * Value[i][j][k] * X[i, j, k] for i in range(2) for j in range(4) for k in range(4))\n",
        "mjob.setObjective(obj, grb.GRB.MINIMIZE)\n",
        "\n",
        "\n",
        "mjob.addConstrs(X[0, i, j] == X[1, i ,j] for i in range(2) for j in range(4))\n",
        "mjob.addConstrs(grb.quicksum(X[i, j, k] for k in range(4)) >= 0 for i in range(2) for j in range(4))\n",
        "mjob.addConstrs(grb.quicksum(X[i, j, k] for k in range(4)) <= 1 for i in range(2)  for j in range(4))\n",
        "mjob.addConstrs(grb.quicksum(X[i, j, k] for j in range(4)) <= 1 for i in range(2)  for k in range(4))\n",
        "mjob.addConstrs(grb.quicksum(X[i, j, k] for j in range(4) for k in range(4)) == 4 for i in range(2))"
      ],
      "metadata": {
        "colab": {
          "base_uri": "https://localhost:8080/"
        },
        "id": "TPesmRp76Nqu",
        "outputId": "4826db64-4e81-4a68-e32a-69cb6a7d9577"
      },
      "execution_count": null,
      "outputs": [
        {
          "output_type": "execute_result",
          "data": {
            "text/plain": [
              "{0: <gurobi.Constr *Awaiting Model Update*>,\n",
              " 1: <gurobi.Constr *Awaiting Model Update*>}"
            ]
          },
          "metadata": {},
          "execution_count": 15
        }
      ]
    },
    {
      "cell_type": "code",
      "source": [
        "mjob.update()\n",
        "mjob.optimize()\n",
        "mjob.display()\n",
        "\n",
        "print(mjob.Status == grb.GRB.OPTIMAL)\n",
        "for t in mjob.getVars():\n",
        "  print(t.VarName, t.X)\n",
        "\n",
        "optobj=mjob.getObjective()\n",
        "optobj.getValue()"
      ],
      "metadata": {
        "colab": {
          "base_uri": "https://localhost:8080/"
        },
        "id": "t1XELcobGxtn",
        "outputId": "1bec958c-406c-41e9-f7ca-f3f0c3b50c63"
      },
      "execution_count": null,
      "outputs": [
        {
          "output_type": "stream",
          "name": "stdout",
          "text": [
            "Gurobi Optimizer version 9.5.1 build v9.5.1rc2 (linux64)\n",
            "Thread count: 1 physical cores, 2 logical processors, using up to 2 threads\n",
            "Optimize a model with 34 rows, 32 columns and 144 nonzeros\n",
            "Model fingerprint: 0x2ec9ca06\n",
            "Variable types: 0 continuous, 32 integer (0 binary)\n",
            "Coefficient statistics:\n",
            "  Matrix range     [1e+00, 1e+00]\n",
            "  Objective range  [4e-01, 7e+00]\n",
            "  Bounds range     [0e+00, 0e+00]\n",
            "  RHS range        [1e+00, 4e+00]\n",
            "Presolve removed 18 rows and 8 columns\n",
            "Presolve time: 0.00s\n",
            "Presolved: 16 rows, 24 columns, 88 nonzeros\n",
            "Variable types: 0 continuous, 24 integer (24 binary)\n",
            "\n",
            "Root relaxation: objective 1.780000e+01, 9 iterations, 0.00 seconds (0.00 work units)\n",
            "\n",
            "    Nodes    |    Current Node    |     Objective Bounds      |     Work\n",
            " Expl Unexpl |  Obj  Depth IntInf | Incumbent    BestBd   Gap | It/Node Time\n",
            "\n",
            "*    0     0               0      17.8000000   17.80000  0.00%     -    0s\n",
            "\n",
            "Explored 1 nodes (9 simplex iterations) in 0.03 seconds (0.00 work units)\n",
            "Thread count was 2 (of 2 available processors)\n",
            "\n",
            "Solution count 1: 17.8 \n",
            "\n",
            "Optimal solution found (tolerance 1.00e-04)\n",
            "Best objective 1.780000000000e+01, best bound 1.780000000000e+01, gap 0.0000%\n",
            "Minimize\n",
            "<gurobi.LinExpr: 1.7999999999999998 X[0,0,0] + 2.4 X[0,0,1] + 4.2 X[0,0,2]\n",
            "+ 2.4 X[0,0,3] + 3.0 X[0,1,0] + 1.2 X[0,1,1] + 3.5999999999999996 X[0,1,2]\n",
            "+ 0.6 X[0,1,3] + 0.6 X[0,2,0] + 2.4 X[0,2,1] + 5.3999999999999995 X[0,2,2]\n",
            "+ 7.199999999999999 X[0,2,3] + 4.2 X[0,3,0] + 4.2 X[0,3,1] + 4.2 X[0,3,2] + 4.2 X[0,3,3]\n",
            "+ 1.2000000000000002 X[1,0,0] + 1.6 X[1,0,1] + 2.8000000000000003 X[1,0,2]\n",
            "+ 1.6 X[1,0,3] + 2.0 X[1,1,0] + 0.8 X[1,1,1] + 2.4000000000000004 X[1,1,2]\n",
            "+ 0.4 X[1,1,3] + 5.6000000000000005 X[1,2,0] + 5.2 X[1,2,1] + 3.2 X[1,2,2]\n",
            "+ 2.4000000000000004 X[1,2,3] + 4.800000000000001 X[1,3,0] + 6.0 X[1,3,1] + 6.0 X[1,3,2]\n",
            "+ 3.2 X[1,3,3]>\n",
            "Subject To\n",
            "  R0: <gurobi.LinExpr: X[0,0,0] + -1.0 X[1,0,0]> = 0\n",
            "  R1: <gurobi.LinExpr: X[0,0,1] + -1.0 X[1,0,1]> = 0\n",
            "  R2: <gurobi.LinExpr: X[0,0,2] + -1.0 X[1,0,2]> = 0\n",
            "  R3: <gurobi.LinExpr: X[0,0,3] + -1.0 X[1,0,3]> = 0\n",
            "  R4: <gurobi.LinExpr: X[0,1,0] + -1.0 X[1,1,0]> = 0\n",
            "  R5: <gurobi.LinExpr: X[0,1,1] + -1.0 X[1,1,1]> = 0\n",
            "  R6: <gurobi.LinExpr: X[0,1,2] + -1.0 X[1,1,2]> = 0\n",
            "  R7: <gurobi.LinExpr: X[0,1,3] + -1.0 X[1,1,3]> = 0\n",
            "  R8: <gurobi.LinExpr: X[0,0,0] + X[0,0,1] + X[0,0,2] + X[0,0,3]> >= 0\n",
            "  R9: <gurobi.LinExpr: X[0,1,0] + X[0,1,1] + X[0,1,2] + X[0,1,3]> >= 0\n",
            "  R10: <gurobi.LinExpr: X[0,2,0] + X[0,2,1] + X[0,2,2] + X[0,2,3]> >= 0\n",
            "  R11: <gurobi.LinExpr: X[0,3,0] + X[0,3,1] + X[0,3,2] + X[0,3,3]> >= 0\n",
            "  R12: <gurobi.LinExpr: X[1,0,0] + X[1,0,1] + X[1,0,2] + X[1,0,3]> >= 0\n",
            "  R13: <gurobi.LinExpr: X[1,1,0] + X[1,1,1] + X[1,1,2] + X[1,1,3]> >= 0\n",
            "  R14: <gurobi.LinExpr: X[1,2,0] + X[1,2,1] + X[1,2,2] + X[1,2,3]> >= 0\n",
            "  R15: <gurobi.LinExpr: X[1,3,0] + X[1,3,1] + X[1,3,2] + X[1,3,3]> >= 0\n",
            "  R16: <gurobi.LinExpr: X[0,0,0] + X[0,0,1] + X[0,0,2] + X[0,0,3]> <= 1\n",
            "  R17: <gurobi.LinExpr: X[0,1,0] + X[0,1,1] + X[0,1,2] + X[0,1,3]> <= 1\n",
            "  R18: <gurobi.LinExpr: X[0,2,0] + X[0,2,1] + X[0,2,2] + X[0,2,3]> <= 1\n",
            "  R19: <gurobi.LinExpr: X[0,3,0] + X[0,3,1] + X[0,3,2] + X[0,3,3]> <= 1\n",
            "  R20: <gurobi.LinExpr: X[1,0,0] + X[1,0,1] + X[1,0,2] + X[1,0,3]> <= 1\n",
            "  R21: <gurobi.LinExpr: X[1,1,0] + X[1,1,1] + X[1,1,2] + X[1,1,3]> <= 1\n",
            "  R22: <gurobi.LinExpr: X[1,2,0] + X[1,2,1] + X[1,2,2] + X[1,2,3]> <= 1\n",
            "  R23: <gurobi.LinExpr: X[1,3,0] + X[1,3,1] + X[1,3,2] + X[1,3,3]> <= 1\n",
            "  R24: <gurobi.LinExpr: X[0,0,0] + X[0,1,0] + X[0,2,0] + X[0,3,0]> <= 1\n",
            "  R25: <gurobi.LinExpr: X[0,0,1] + X[0,1,1] + X[0,2,1] + X[0,3,1]> <= 1\n",
            "  R26: <gurobi.LinExpr: X[0,0,2] + X[0,1,2] + X[0,2,2] + X[0,3,2]> <= 1\n",
            "  R27: <gurobi.LinExpr: X[0,0,3] + X[0,1,3] + X[0,2,3] + X[0,3,3]> <= 1\n",
            "  R28: <gurobi.LinExpr: X[1,0,0] + X[1,1,0] + X[1,2,0] + X[1,3,0]> <= 1\n",
            "  R29: <gurobi.LinExpr: X[1,0,1] + X[1,1,1] + X[1,2,1] + X[1,3,1]> <= 1\n",
            "  R30: <gurobi.LinExpr: X[1,0,2] + X[1,1,2] + X[1,2,2] + X[1,3,2]> <= 1\n",
            "  R31: <gurobi.LinExpr: X[1,0,3] + X[1,1,3] + X[1,2,3] + X[1,3,3]> <= 1\n",
            "R32: <gurobi.LinExpr: X[0,0,0] + X[0,0,1] + X[0,0,2] + X[0,0,3] + X[0,1,0] + X[0,1,1] +\n",
            "X[0,1,2] + X[0,1,3] + X[0,2,0] + X[0,2,1] + X[0,2,2] + X[0,2,3] + X[0,3,0] + X[0,3,1] +\n",
            " X[0,3,2] + X[0,3,3]> = 4\n",
            "R33: <gurobi.LinExpr: X[1,0,0] + X[1,0,1] + X[1,0,2] + X[1,0,3] + X[1,1,0] + X[1,1,1] +\n",
            "X[1,1,2] + X[1,1,3] + X[1,2,0] + X[1,2,1] + X[1,2,2] + X[1,2,3] + X[1,3,0] + X[1,3,1] +\n",
            " X[1,3,2] + X[1,3,3]> = 4\n",
            "General Integers\n",
            "['X[0,0,0]', 'X[0,0,1]', 'X[0,0,2]', 'X[0,0,3]', 'X[0,1,0]', 'X[0,1,1]', 'X[0,1,2]',\n",
            "'X[0,1,3]', 'X[0,2,0]', 'X[0,2,1]', 'X[0,2,2]', 'X[0,2,3]', 'X[0,3,0]', 'X[0,3,1]',\n",
            "'X[0,3,2]', 'X[0,3,3]', 'X[1,0,0]', 'X[1,0,1]', 'X[1,0,2]', 'X[1,0,3]', 'X[1,1,0]',\n",
            "'X[1,1,1]', 'X[1,1,2]', 'X[1,1,3]', 'X[1,2,0]', 'X[1,2,1]', 'X[1,2,2]', 'X[1,2,3]',\n",
            " 'X[1,3,0]', 'X[1,3,1]', 'X[1,3,2]', 'X[1,3,3]']\n",
            "True\n",
            "X[0,0,0] 0.0\n",
            "X[0,0,1] 1.0\n",
            "X[0,0,2] -0.0\n",
            "X[0,0,3] -0.0\n",
            "X[0,1,0] -0.0\n",
            "X[0,1,1] 0.0\n",
            "X[0,1,2] -0.0\n",
            "X[0,1,3] 1.0\n",
            "X[0,2,0] 1.0\n",
            "X[0,2,1] 0.0\n",
            "X[0,2,2] -0.0\n",
            "X[0,2,3] -0.0\n",
            "X[0,3,0] -0.0\n",
            "X[0,3,1] -0.0\n",
            "X[0,3,2] 1.0\n",
            "X[0,3,3] -0.0\n",
            "X[1,0,0] 0.0\n",
            "X[1,0,1] 1.0\n",
            "X[1,0,2] -0.0\n",
            "X[1,0,3] -0.0\n",
            "X[1,1,0] -0.0\n",
            "X[1,1,1] 0.0\n",
            "X[1,1,2] -0.0\n",
            "X[1,1,3] 1.0\n",
            "X[1,2,0] -0.0\n",
            "X[1,2,1] 0.0\n",
            "X[1,2,2] 1.0\n",
            "X[1,2,3] 0.0\n",
            "X[1,3,0] 1.0\n",
            "X[1,3,1] -0.0\n",
            "X[1,3,2] -0.0\n",
            "X[1,3,3] -0.0\n"
          ]
        },
        {
          "output_type": "execute_result",
          "data": {
            "text/plain": [
              "17.8"
            ]
          },
          "metadata": {},
          "execution_count": 16
        }
      ]
    }
  ]
}