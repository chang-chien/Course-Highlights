{
  "nbformat": 4,
  "nbformat_minor": 0,
  "metadata": {
    "colab": {
      "provenance": []
    },
    "kernelspec": {
      "name": "python3",
      "display_name": "Python 3"
    },
    "language_info": {
      "name": "python"
    }
  },
  "cells": [
    {
      "cell_type": "code",
      "source": [
        "%pip install scipy --upgrade\n",
        "import math\n",
        "import matplotlib.pyplot as plt\n",
        "import scipy.stats as stats\n",
        "import scipy.optimize as opt\n",
        "import numpy as np\n",
        "import random\n",
        "\n",
        "%pip install gurobipy\n",
        "import gurobipy as grb"
      ],
      "metadata": {
        "colab": {
          "base_uri": "https://localhost:8080/"
        },
        "id": "e2koVx7rfL__",
        "outputId": "50e639a1-498f-484e-fcad-3c057b46c48d"
      },
      "execution_count": null,
      "outputs": [
        {
          "output_type": "stream",
          "name": "stdout",
          "text": [
            "Requirement already satisfied: scipy in /usr/local/lib/python3.7/dist-packages (1.4.1)\n",
            "Collecting scipy\n",
            "  Downloading scipy-1.7.3-cp37-cp37m-manylinux_2_12_x86_64.manylinux2010_x86_64.whl (38.1 MB)\n",
            "\u001b[K     |████████████████████████████████| 38.1 MB 2.0 MB/s \n",
            "\u001b[?25hRequirement already satisfied: numpy<1.23.0,>=1.16.5 in /usr/local/lib/python3.7/dist-packages (from scipy) (1.21.6)\n",
            "Installing collected packages: scipy\n",
            "  Attempting uninstall: scipy\n",
            "    Found existing installation: scipy 1.4.1\n",
            "    Uninstalling scipy-1.4.1:\n",
            "      Successfully uninstalled scipy-1.4.1\n",
            "\u001b[31mERROR: pip's dependency resolver does not currently take into account all the packages that are installed. This behaviour is the source of the following dependency conflicts.\n",
            "albumentations 0.1.12 requires imgaug<0.2.7,>=0.2.5, but you have imgaug 0.2.9 which is incompatible.\u001b[0m\n",
            "Successfully installed scipy-1.7.3\n",
            "Collecting gurobipy\n",
            "  Downloading gurobipy-9.5.1-cp37-cp37m-manylinux2014_x86_64.whl (11.5 MB)\n",
            "\u001b[K     |████████████████████████████████| 11.5 MB 7.7 MB/s \n",
            "\u001b[?25hInstalling collected packages: gurobipy\n",
            "Successfully installed gurobipy-9.5.1\n"
          ]
        }
      ]
    },
    {
      "cell_type": "markdown",
      "source": [
        "### Q1-1"
      ],
      "metadata": {
        "id": "MkEWDWPWk8V8"
      }
    },
    {
      "cell_type": "code",
      "execution_count": null,
      "metadata": {
        "id": "umw0jZ2_yljx",
        "colab": {
          "base_uri": "https://localhost:8080/"
        },
        "outputId": "e524c9c3-b067-44fa-dd60-34012dcdf8e1"
      },
      "outputs": [
        {
          "output_type": "stream",
          "name": "stdout",
          "text": [
            "(8, 3)\n",
            "[1250 1500 1600]\n"
          ]
        }
      ],
      "source": [
        "#inputs\n",
        "cost=np.array([250,650,250,500,700,30,350,70])\n",
        "p=np.array([0.9,0.7,0.6,0.4,0.8,0.6,0.7,0.9])\n",
        "revpar=np.array([[600,750,900],[1250,1500,1600],[500,600,750],[1600,1800,1900],\n",
        "                 [1150,1200,1400],[150,180,250],[750,900,1000],[220,250,320]])\n",
        "print(revpar.shape)\n",
        "print(revpar[1,:])"
      ]
    },
    {
      "cell_type": "code",
      "source": [
        "np.random.seed(5566)\n",
        "#I: The number of projects\n",
        "I=8\n",
        "#S: The number of simulation runs\n",
        "S=10000\n",
        "simsuccess=np.zeros((S,I))\n",
        "simrev=np.zeros((S,I))\n",
        "avgrev=np.zeros(I)\n",
        "for i in range(I):\n",
        "  simsuccess[0:S,i]=np.random.binomial(1,p[i],S)\n",
        "  simrev[:,i]=np.random.triangular(revpar[i,0],revpar[i,1],revpar[i,2],S)\n",
        "  simrev=np.multiply(simrev,simsuccess)\n",
        "\n",
        "# print(simsuccess)\n",
        "# print(simrev)\n",
        "# print(simrev.shape)"
      ],
      "metadata": {
        "id": "2Y3q5Lfbed48"
      },
      "execution_count": null,
      "outputs": []
    },
    {
      "cell_type": "code",
      "source": [
        "# profit of all projects are selected\n",
        "x_vars = [1, 1, 1, 1, 1, 1, 1, 1]\n",
        "\n",
        "sum = 0\n",
        "for i in range(I):\n",
        "  for s in range(S):\n",
        "    sum += x_vars[i]*(simrev[s,i]-cost[i])\n",
        "\n",
        "sum / S"
      ],
      "metadata": {
        "colab": {
          "base_uri": "https://localhost:8080/"
        },
        "id": "UhvtF60rhznK",
        "outputId": "66ae9e13-5bf9-48ef-b7a9-7b8328960411"
      },
      "execution_count": null,
      "outputs": [
        {
          "output_type": "execute_result",
          "data": {
            "text/plain": [
              "1929.5946688591935"
            ]
          },
          "metadata": {},
          "execution_count": 11
        }
      ]
    },
    {
      "cell_type": "markdown",
      "source": [
        "### Q1-2"
      ],
      "metadata": {
        "id": "KICqI8zmlCv3"
      }
    },
    {
      "cell_type": "code",
      "source": [
        "# success rate of (1,2,5,6,7)project are selected\n",
        "x_vars = np.array([1, 1, 0, 0, 1, 1, 1, 0])\n",
        "\n",
        "print(round(np.sum(x_vars*p), 1))"
      ],
      "metadata": {
        "colab": {
          "base_uri": "https://localhost:8080/"
        },
        "id": "aQULItXklKYy",
        "outputId": "fa212c0a-e780-4167-94cf-e36cea649666"
      },
      "execution_count": null,
      "outputs": [
        {
          "output_type": "stream",
          "name": "stdout",
          "text": [
            "3.7\n"
          ]
        }
      ]
    },
    {
      "cell_type": "code",
      "source": [
        "# success rate of (1,2,4,5,6,7)project are selected\n",
        "x_vars = [1, 1, 0, 1, 1, 1, 1, 0]\n",
        "\n",
        "print(round(np.sum(x_vars*p), 1))"
      ],
      "metadata": {
        "colab": {
          "base_uri": "https://localhost:8080/"
        },
        "id": "TAMRqlFXlR2r",
        "outputId": "fa1a1a7b-96db-45a1-854c-f0081db66d36"
      },
      "execution_count": null,
      "outputs": [
        {
          "output_type": "stream",
          "name": "stdout",
          "text": [
            "4.1\n"
          ]
        }
      ]
    },
    {
      "cell_type": "code",
      "source": [
        "# profit of (1,2,5,6,7)project are selected\n",
        "x_vars = [1, 1, 0, 0, 1, 1, 1, 0]\n",
        "\n",
        "sum = 0\n",
        "for i in range(I):\n",
        "  for s in range(S):\n",
        "    sum += x_vars[i]*(simrev[s,i]-cost[i])\n",
        "\n",
        "sum / S"
      ],
      "metadata": {
        "colab": {
          "base_uri": "https://localhost:8080/"
        },
        "id": "8McIYk5qhabp",
        "outputId": "7123aee0-1e83-441b-f55d-116d7ad35c30"
      },
      "execution_count": null,
      "outputs": [
        {
          "output_type": "execute_result",
          "data": {
            "text/plain": [
              "1455.7248956016815"
            ]
          },
          "metadata": {},
          "execution_count": 10
        }
      ]
    },
    {
      "cell_type": "code",
      "source": [
        "# profit of (1,2,4,5,6,7)project are selected\n",
        "x_vars = [1, 1, 0, 1, 1, 1, 1, 0]\n",
        "\n",
        "sum = 0\n",
        "for i in range(I):\n",
        "  for s in range(S):\n",
        "    sum += x_vars[i]*(simrev[s,i]-cost[i])\n",
        "\n",
        "sum / S\n",
        "\n",
        "#project(1,2,4,5,6,7)的利益大於project(1,2,5,6,7)。此外project(1,2,4,5,6,7)的成功率也大於project(1,2,5,6,7)。\n",
        "#我會選擇project(1,2,5,6,7)因為有較高的獲利能力"
      ],
      "metadata": {
        "colab": {
          "base_uri": "https://localhost:8080/"
        },
        "id": "gb69iAkYktoD",
        "outputId": "0e7168fc-d955-40f2-80b3-712c3d821d70"
      },
      "execution_count": null,
      "outputs": [
        {
          "output_type": "execute_result",
          "data": {
            "text/plain": [
              "1649.8025501942568"
            ]
          },
          "metadata": {},
          "execution_count": 16
        }
      ]
    },
    {
      "cell_type": "markdown",
      "source": [
        "### Q2-1"
      ],
      "metadata": {
        "id": "wT6Q8B4jpuVh"
      }
    },
    {
      "cell_type": "code",
      "source": [
        "p = [0.03, 0.05, 0.07, 0.09, 0.11, 0.15, 0.18, 0.14, 0.08, 0.05, 0.03, 0.02]"
      ],
      "metadata": {
        "id": "dmGPWcWssYS_"
      },
      "execution_count": null,
      "outputs": []
    },
    {
      "cell_type": "code",
      "source": [
        "np.random.seed(7788)\n",
        "S = 5000\n",
        "\n",
        "distribution_of_seat_num = np.array(range(14,26,1))\n",
        "sim_demand = np.random.choice(distribution_of_seat_num, size=S, p=p)"
      ],
      "metadata": {
        "id": "w-dvFRz4uOQD"
      },
      "execution_count": null,
      "outputs": []
    },
    {
      "cell_type": "code",
      "source": [
        "# try to maximize profit\n",
        "def revenue(n):\n",
        "  profits = np.zeros(S)\n",
        "  Eprofit = 0\n",
        "  for s in range(S):\n",
        "      d = sim_demand[s]\n",
        "      reserved = min(d, n)\n",
        "      show = np.random.binomial(reserved, 0.9, 1)\n",
        "      profits[s] = 150*reserved - 325*max(0, show - 19)\n",
        "\n",
        "  #print(profits)\n",
        "  Eprofit=round(np.mean(profits))\n",
        "\n",
        "  return -Eprofit\n",
        "\n",
        "res = opt.minimize(revenue, 14, bounds=[(14, 26)])\n",
        "print(\"seats:\", res.x[0])\n",
        "print(\"profit: \", -res.fun)"
      ],
      "metadata": {
        "id": "_i9JhP7eqQjo",
        "colab": {
          "base_uri": "https://localhost:8080/"
        },
        "outputId": "365f8173-0e93-4fb4-a778-b768d3abc5b6"
      },
      "execution_count": null,
      "outputs": [
        {
          "output_type": "stream",
          "name": "stdout",
          "text": [
            "seats: 21.0\n",
            "profit:  2793.0\n"
          ]
        }
      ]
    },
    {
      "cell_type": "markdown",
      "source": [
        "### Q2-2"
      ],
      "metadata": {
        "id": "-nUzUVoh6J0S"
      }
    },
    {
      "cell_type": "code",
      "source": [
        "# try to minimize cost of over-sell\n",
        "def loss(n):\n",
        "  profits_loss = np.zeros(S)\n",
        "  Eprofit = 0\n",
        "  for s in range(S):\n",
        "      d = sim_demand[s]\n",
        "      reserved = min(d, n)\n",
        "      show = np.random.binomial(reserved, 0.9, 1)\n",
        "      profits_loss[s] = - 325*max(0, show - 19)\n",
        "\n",
        "  #print(profits_loss)\n",
        "  Eprofit=round(np.mean(profits_loss))\n",
        "\n",
        "  return -Eprofit\n",
        "\n",
        "res = opt.minimize(loss, 14, bounds=[(14, 26)])\n",
        "print(\"seats:\", res.x[0])"
      ],
      "metadata": {
        "colab": {
          "base_uri": "https://localhost:8080/"
        },
        "id": "32QzZflmTOTU",
        "outputId": "66556c6e-2502-44f8-8375-5aadc72e9b4e"
      },
      "execution_count": null,
      "outputs": [
        {
          "output_type": "stream",
          "name": "stdout",
          "text": [
            "seats: 19.0\n"
          ]
        }
      ]
    },
    {
      "cell_type": "markdown",
      "source": [
        "### Q2-3\n",
        "Q2-1 的目標函數是最大化期望值，因此有可能獲得更大的利潤。 但同時風險大，賠錢的概率和損失也較大。<br>\n",
        "\n",
        "Q2-2的目標函數是最大化成功率，也就是最小化風險，所以賠錢的概率小，損失也少，但是期望值會比較低，可能的最大利潤不是 高的。<br>"
      ],
      "metadata": {
        "id": "1ji5ZNSa6MUF"
      }
    },
    {
      "cell_type": "markdown",
      "source": [
        "###Q3-1"
      ],
      "metadata": {
        "id": "eZbXRJ9pohXe"
      }
    },
    {
      "cell_type": "code",
      "source": [
        "consultantY=80000\n",
        "threshold=5000\n",
        "fixedC=3995\n",
        "variable_cost_meal=11\n",
        "S=1000\n",
        "mealSold_mean=3000\n",
        "mealSold_std=1000\n",
        "mealSold=np.random.normal(mealSold_mean,mealSold_std,S)\n",
        "labor_low=5040\n",
        "labor_upper=6860\n",
        "laborCost=np.random.uniform(labor_low,labor_upper,S)\n",
        "mealPrice=np.array([20,18.5,16.5,15])\n",
        "mealPriceP=np.array([0.25,0.35,0.3,0.1])\n",
        "simMealPrice=np.random.choice(mealPrice,S,p=mealPriceP)\n",
        "\n",
        "\n",
        "\n",
        "part_minimum=3500\n",
        "part_thres=9000\n",
        "profits_nopat=np.empty(S)\n",
        "profits_pat=np.empty(S)\n",
        "for s in range(S):\n",
        "  profits_nopat[s]=mealSold[s]*(simMealPrice[s]-variable_cost_meal)-laborCost[s]-fixedC\n",
        "  if(profits_nopat[s]<part_minimum):\n",
        "    profits_pat[s]=part_minimum\n",
        "  elif(profits_nopat[s]>part_thres):\n",
        "    profits_pat[s]=(profits_pat[s]-part_thres)*0.1+part_thres\n",
        "  else:\n",
        "    profits_pat[s]=profits_nopat[s]\n",
        "\n",
        "avgprofit_nopat=np.mean(profits_nopat)\n",
        "print(\"Without PartnerShip\")\n",
        "print(\"Average: \")\n",
        "print(avgprofit_nopat)\n",
        "print(\"Max: \")\n",
        "print(max(profits_nopat))\n",
        "print(\"Min: \")\n",
        "print(min(profits_nopat))\n",
        "\n",
        "# 無法保證獲利，會有虧損的情況產生\n",
        "#不繼續經營產生的虧損甚至可能比較小"
      ],
      "metadata": {
        "id": "N66hUISKogo1",
        "colab": {
          "base_uri": "https://localhost:8080/"
        },
        "outputId": "cc0fa2af-10f3-4f13-8d12-9ba92d24e422"
      },
      "execution_count": null,
      "outputs": [
        {
          "output_type": "stream",
          "name": "stdout",
          "text": [
            "Without PartnerShip\n",
            "Average: \n",
            "10974.842657083966\n",
            "Max: \n",
            "44353.42232937872\n",
            "Min: \n",
            "-9029.011471258182\n"
          ]
        }
      ]
    },
    {
      "cell_type": "markdown",
      "source": [
        "###Q3-2"
      ],
      "metadata": {
        "id": "R5_dgWH6onTb"
      }
    },
    {
      "cell_type": "code",
      "source": [
        "avgprofit_pat=np.mean(profits_pat)\n",
        "print(\"With PartnerShip\")\n",
        "print(\"Average: \")\n",
        "print(avgprofit_pat)\n",
        "print(\"Max: \")\n",
        "print(max(profits_pat))\n",
        "print(\"Min: \")\n",
        "print(min(profits_pat))\n",
        "\n",
        "# 如果加入合夥人的話，你可能的最大利潤會降低，但是可以確保最低利潤為3500。\n",
        "# 因此，若要追求高利潤，不適合找合夥人；但若追求穩定收入，就適合找合夥人\n"
      ],
      "metadata": {
        "id": "4FflvtyFopa0",
        "colab": {
          "base_uri": "https://localhost:8080/"
        },
        "outputId": "e710d9cf-cbdf-4e98-fb1b-5cbedb2485f2"
      },
      "execution_count": null,
      "outputs": [
        {
          "output_type": "stream",
          "name": "stdout",
          "text": [
            "\n",
            "With PartnerShip\n",
            "Average: \n",
            "6676.972955704596\n",
            "Max: \n",
            "8977.002195329143\n",
            "Min: \n",
            "3500.0\n"
          ]
        }
      ]
    },
    {
      "cell_type": "markdown",
      "source": [
        "###Q3-3"
      ],
      "metadata": {
        "id": "Z1yVLMsJr2Ye"
      }
    },
    {
      "cell_type": "code",
      "source": [
        "#estimate P(profits of no partnership > profits of partnership)\n",
        "NoPatMore=np.empty (S)\n",
        "\n",
        "mealProfit=np.array([9,7.5,5.5,4])\n",
        "mealProfitP=np.array([0.25,0.35,0.3,0.1])\n",
        "P = 0\n",
        "for i in range(4):\n",
        "  for s in range(S):\n",
        "    if(mealSold[s]*mealProfit[i]>12995 + profits_pat[s]):\n",
        "      NoPatMore[s]=1\n",
        "    else:\n",
        "      NoPatMore[s]=0\n",
        "    p=np.count_nonzero(NoPatMore)/S\n",
        "  P = P + p*mealProfitP[i]\n",
        "print(P)\n"
      ],
      "metadata": {
        "id": "fHIFxb3Sr4Qh"
      },
      "execution_count": null,
      "outputs": []
    },
    {
      "cell_type": "markdown",
      "source": [
        "###Q3-4"
      ],
      "metadata": {
        "id": "DUhPDCJYCoC6"
      }
    },
    {
      "cell_type": "code",
      "source": [
        "Year_consultantY=80000\n",
        "Year_threshold=5000*12\n",
        "Year_fixedC=3995*12\n",
        "Year_variable_cost_meal=11\n",
        "S=1000\n",
        "Year_mealSold_mean=3000*12\n",
        "Year_mealSold_std=1000\n",
        "Year_mealSold=np.random.normal(Year_mealSold_mean,Year_mealSold_std,S)\n",
        "Year_labor_low=5040*12\n",
        "Year_labor_upper=6860*12\n",
        "Year_laborCost=np.random.uniform(Year_labor_low,Year_labor_upper,S)\n",
        "Year_mealPrice=np.array([20,18.5,16.5,15])\n",
        "Year_mealPriceP=np.array([0.25,0.35,0.3,0.1])\n",
        "Year_simMealPrice=np.random.choice(Year_mealPrice,S,p=Year_mealPriceP)\n",
        "\n",
        "\n",
        "\n",
        "Year_part_minimum=3500*12\n",
        "Year_part_thres=9000*12\n",
        "Year_profits_nopat=np.empty(S)\n",
        "Year_profits_pat=np.empty(S)\n",
        "for s in range(S):\n",
        "  Year_profits_nopat[s]=Year_mealSold[s]*(Year_simMealPrice[s]-Year_variable_cost_meal)-Year_laborCost[s]-Year_fixedC\n",
        "  if(Year_profits_nopat[s]<Year_part_minimum):\n",
        "    Year_profits_pat[s]=Year_part_minimum\n",
        "  elif(Year_profits_nopat[s]>Year_part_thres):\n",
        "    Year_profits_pat[s]=(Year_profits_pat[s]-Year_part_thres)*0.1+Year_part_thres\n",
        "  else:\n",
        "    Year_profits_pat[s]=Year_profits_nopat[s]\n",
        "\n",
        "Year_avgprofit_nopat=np.mean(Year_profits_nopat)\n",
        "print(\"Without PartnerShip\")\n",
        "print(\"Average: \")\n",
        "print(Year_avgprofit_nopat)\n",
        "print(\"Max: \")\n",
        "print(max(Year_profits_nopat))\n",
        "print(\"Min: \")\n",
        "print(min(Year_profits_nopat))"
      ],
      "metadata": {
        "colab": {
          "base_uri": "https://localhost:8080/"
        },
        "id": "YbgRCc-OCqcg",
        "outputId": "c6da967e-4d39-44a5-97b4-f18b77706064"
      },
      "execution_count": null,
      "outputs": [
        {
          "output_type": "stream",
          "name": "stdout",
          "text": [
            "Without PartnerShip\n",
            "Average: \n",
            "130295.96115709389\n",
            "Max: \n",
            "244639.3535397034\n",
            "Min: \n",
            "9179.202343216486\n"
          ]
        }
      ]
    },
    {
      "cell_type": "code",
      "source": [
        "Year_avgprofit_pat=np.mean(Year_profits_pat)\n",
        "print(\"With PartnerShip\")\n",
        "print(\"Average: \")\n",
        "print(Year_avgprofit_pat)\n",
        "print(\"Max: \")\n",
        "print(max(Year_profits_pat))\n",
        "print(\"Min: \")\n",
        "print(min(Year_profits_pat))\n",
        "\n",
        "# 從穩定性（平均值）來看選擇不合作皆較有利，故以年來看會選擇不合作\n",
        "#從最高獲利能力（最大值）來看選擇不合作皆較有利，故以年來看會選擇不合作"
      ],
      "metadata": {
        "colab": {
          "base_uri": "https://localhost:8080/"
        },
        "id": "XKwmffcpEIDF",
        "outputId": "29cdf559-01a4-4d92-9d53-cd333486b65d"
      },
      "execution_count": null,
      "outputs": [
        {
          "output_type": "stream",
          "name": "stdout",
          "text": [
            "\n",
            "With PartnerShip\n",
            "Average: \n",
            "86011.04045903304\n",
            "Max: \n",
            "100369.31729486794\n",
            "Min: \n",
            "42000.0\n"
          ]
        }
      ]
    }
  ]
}