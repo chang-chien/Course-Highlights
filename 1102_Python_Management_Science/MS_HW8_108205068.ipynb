{
  "cells": [
    {
      "cell_type": "markdown",
      "metadata": {
        "id": "Vjj7f3shV5o3"
      },
      "source": [
        "##6\n"
      ]
    },
    {
      "cell_type": "code",
      "execution_count": null,
      "metadata": {
        "colab": {
          "base_uri": "https://localhost:8080/"
        },
        "id": "0PlLM4Q9C_BF",
        "outputId": "79129d62-b4c9-48c6-f445-422fde3eb5a0"
      },
      "outputs": [
        {
          "name": "stdout",
          "output_type": "stream",
          "text": [
            "Looking in indexes: https://pypi.org/simple, https://us-python.pkg.dev/colab-wheels/public/simple/\n",
            "Requirement already satisfied: gurobipy in /usr/local/lib/python3.7/dist-packages (9.5.1)\n"
          ]
        }
      ],
      "source": [
        "%pip install gurobipy\n",
        "import gurobipy as grb\n",
        "import numpy as np\n",
        "import math\n",
        "import matplotlib.pyplot as plt\n",
        "import scipy.stats\n",
        "import pandas as pd"
      ]
    },
    {
      "cell_type": "markdown",
      "metadata": {
        "id": "JmseEk3eV7l9"
      },
      "source": []
    },
    {
      "cell_type": "code",
      "execution_count": null,
      "metadata": {
        "id": "-zqctVcOBWio"
      },
      "outputs": [],
      "source": [
        "def kpi_simple(df):\n",
        "    SSE =(df['Error']**2).sum()\n",
        "    MSE =(df['Error']**2).mean()\n",
        "    print('SSE: {:0.2f}'.format(SSE))\n",
        "    print('MSE: {:0.2f}'.format(MSE))"
      ]
    },
    {
      "cell_type": "code",
      "execution_count": null,
      "metadata": {
        "colab": {
          "base_uri": "https://localhost:8080/"
        },
        "id": "5scy2i5-ElGy",
        "outputId": "4e454a46-3f72-411f-91d4-da5645e82b68"
      },
      "outputs": [
        {
          "name": "stdout",
          "output_type": "stream",
          "text": [
            "Drive already mounted at /content/drive; to attempt to forcibly remount, call drive.mount(\"/content/drive\", force_remount=True).\n"
          ]
        },
        {
          "data": {
            "text/html": [
              "\n",
              "  <div id=\"df-81553472-e7e8-438d-87ea-4767258d6b96\">\n",
              "    <div class=\"colab-df-container\">\n",
              "      <div>\n",
              "<style scoped>\n",
              "    .dataframe tbody tr th:only-of-type {\n",
              "        vertical-align: middle;\n",
              "    }\n",
              "\n",
              "    .dataframe tbody tr th {\n",
              "        vertical-align: top;\n",
              "    }\n",
              "\n",
              "    .dataframe thead th {\n",
              "        text-align: right;\n",
              "    }\n",
              "</style>\n",
              "<table border=\"1\" class=\"dataframe\">\n",
              "  <thead>\n",
              "    <tr style=\"text-align: right;\">\n",
              "      <th></th>\n",
              "      <th>Obs</th>\n",
              "      <th>Day</th>\n",
              "      <th>Temp</th>\n",
              "      <th>Demand</th>\n",
              "    </tr>\n",
              "  </thead>\n",
              "  <tbody>\n",
              "    <tr>\n",
              "      <th>0</th>\n",
              "      <td>1</td>\n",
              "      <td>1</td>\n",
              "      <td>92</td>\n",
              "      <td>57.7</td>\n",
              "    </tr>\n",
              "    <tr>\n",
              "      <th>1</th>\n",
              "      <td>2</td>\n",
              "      <td>2</td>\n",
              "      <td>96</td>\n",
              "      <td>71.5</td>\n",
              "    </tr>\n",
              "    <tr>\n",
              "      <th>2</th>\n",
              "      <td>3</td>\n",
              "      <td>3</td>\n",
              "      <td>96</td>\n",
              "      <td>73.0</td>\n",
              "    </tr>\n",
              "    <tr>\n",
              "      <th>3</th>\n",
              "      <td>4</td>\n",
              "      <td>4</td>\n",
              "      <td>89</td>\n",
              "      <td>68.6</td>\n",
              "    </tr>\n",
              "    <tr>\n",
              "      <th>4</th>\n",
              "      <td>5</td>\n",
              "      <td>5</td>\n",
              "      <td>95</td>\n",
              "      <td>71.2</td>\n",
              "    </tr>\n",
              "  </tbody>\n",
              "</table>\n",
              "</div>\n",
              "      <button class=\"colab-df-convert\" onclick=\"convertToInteractive('df-81553472-e7e8-438d-87ea-4767258d6b96')\"\n",
              "              title=\"Convert this dataframe to an interactive table.\"\n",
              "              style=\"display:none;\">\n",
              "        \n",
              "  <svg xmlns=\"http://www.w3.org/2000/svg\" height=\"24px\"viewBox=\"0 0 24 24\"\n",
              "       width=\"24px\">\n",
              "    <path d=\"M0 0h24v24H0V0z\" fill=\"none\"/>\n",
              "    <path d=\"M18.56 5.44l.94 2.06.94-2.06 2.06-.94-2.06-.94-.94-2.06-.94 2.06-2.06.94zm-11 1L8.5 8.5l.94-2.06 2.06-.94-2.06-.94L8.5 2.5l-.94 2.06-2.06.94zm10 10l.94 2.06.94-2.06 2.06-.94-2.06-.94-.94-2.06-.94 2.06-2.06.94z\"/><path d=\"M17.41 7.96l-1.37-1.37c-.4-.4-.92-.59-1.43-.59-.52 0-1.04.2-1.43.59L10.3 9.45l-7.72 7.72c-.78.78-.78 2.05 0 2.83L4 21.41c.39.39.9.59 1.41.59.51 0 1.02-.2 1.41-.59l7.78-7.78 2.81-2.81c.8-.78.8-2.07 0-2.86zM5.41 20L4 18.59l7.72-7.72 1.47 1.35L5.41 20z\"/>\n",
              "  </svg>\n",
              "      </button>\n",
              "      \n",
              "  <style>\n",
              "    .colab-df-container {\n",
              "      display:flex;\n",
              "      flex-wrap:wrap;\n",
              "      gap: 12px;\n",
              "    }\n",
              "\n",
              "    .colab-df-convert {\n",
              "      background-color: #E8F0FE;\n",
              "      border: none;\n",
              "      border-radius: 50%;\n",
              "      cursor: pointer;\n",
              "      display: none;\n",
              "      fill: #1967D2;\n",
              "      height: 32px;\n",
              "      padding: 0 0 0 0;\n",
              "      width: 32px;\n",
              "    }\n",
              "\n",
              "    .colab-df-convert:hover {\n",
              "      background-color: #E2EBFA;\n",
              "      box-shadow: 0px 1px 2px rgba(60, 64, 67, 0.3), 0px 1px 3px 1px rgba(60, 64, 67, 0.15);\n",
              "      fill: #174EA6;\n",
              "    }\n",
              "\n",
              "    [theme=dark] .colab-df-convert {\n",
              "      background-color: #3B4455;\n",
              "      fill: #D2E3FC;\n",
              "    }\n",
              "\n",
              "    [theme=dark] .colab-df-convert:hover {\n",
              "      background-color: #434B5C;\n",
              "      box-shadow: 0px 1px 3px 1px rgba(0, 0, 0, 0.15);\n",
              "      filter: drop-shadow(0px 1px 2px rgba(0, 0, 0, 0.3));\n",
              "      fill: #FFFFFF;\n",
              "    }\n",
              "  </style>\n",
              "\n",
              "      <script>\n",
              "        const buttonEl =\n",
              "          document.querySelector('#df-81553472-e7e8-438d-87ea-4767258d6b96 button.colab-df-convert');\n",
              "        buttonEl.style.display =\n",
              "          google.colab.kernel.accessAllowed ? 'block' : 'none';\n",
              "\n",
              "        async function convertToInteractive(key) {\n",
              "          const element = document.querySelector('#df-81553472-e7e8-438d-87ea-4767258d6b96');\n",
              "          const dataTable =\n",
              "            await google.colab.kernel.invokeFunction('convertToInteractive',\n",
              "                                                     [key], {});\n",
              "          if (!dataTable) return;\n",
              "\n",
              "          const docLinkHtml = 'Like what you see? Visit the ' +\n",
              "            '<a target=\"_blank\" href=https://colab.research.google.com/notebooks/data_table.ipynb>data table notebook</a>'\n",
              "            + ' to learn more about interactive tables.';\n",
              "          element.innerHTML = '';\n",
              "          dataTable['output_type'] = 'display_data';\n",
              "          await google.colab.output.renderOutput(dataTable, element);\n",
              "          const docLink = document.createElement('div');\n",
              "          docLink.innerHTML = docLinkHtml;\n",
              "          element.appendChild(docLink);\n",
              "        }\n",
              "      </script>\n",
              "    </div>\n",
              "  </div>\n",
              "  "
            ],
            "text/plain": [
              "   Obs  Day  Temp  Demand\n",
              "0    1    1    92    57.7\n",
              "1    2    2    96    71.5\n",
              "2    3    3    96    73.0\n",
              "3    4    4    89    68.6\n",
              "4    5    5    95    71.2"
            ]
          },
          "execution_count": 6,
          "metadata": {},
          "output_type": "execute_result"
        }
      ],
      "source": [
        "from google.colab import drive\n",
        "drive.mount('/content/drive')\n",
        "\n",
        "df6 = pd.read_csv(\"/content/drive/MyDrive/Colab Notebooks/Duque.csv\")\n",
        "# Dataset is now stored in a Pandas Dataframe\n",
        "df6.head()\n"
      ]
    },
    {
      "cell_type": "markdown",
      "metadata": {
        "id": "FW-efJkxwmpt"
      },
      "source": [
        "#6-(a) Regression"
      ]
    },
    {
      "cell_type": "code",
      "execution_count": null,
      "metadata": {
        "colab": {
          "base_uri": "https://localhost:8080/",
          "height": 224
        },
        "id": "PVMD56PrxQhP",
        "outputId": "d882e3f4-9b0a-4345-e326-00f0b35a5993"
      },
      "outputs": [
        {
          "name": "stdout",
          "output_type": "stream",
          "text": [
            "Drive already mounted at /content/drive; to attempt to forcibly remount, call drive.mount(\"/content/drive\", force_remount=True).\n"
          ]
        },
        {
          "data": {
            "text/html": [
              "\n",
              "  <div id=\"df-87934acf-7723-42a4-81e0-de82657815e9\">\n",
              "    <div class=\"colab-df-container\">\n",
              "      <div>\n",
              "<style scoped>\n",
              "    .dataframe tbody tr th:only-of-type {\n",
              "        vertical-align: middle;\n",
              "    }\n",
              "\n",
              "    .dataframe tbody tr th {\n",
              "        vertical-align: top;\n",
              "    }\n",
              "\n",
              "    .dataframe thead th {\n",
              "        text-align: right;\n",
              "    }\n",
              "</style>\n",
              "<table border=\"1\" class=\"dataframe\">\n",
              "  <thead>\n",
              "    <tr style=\"text-align: right;\">\n",
              "      <th></th>\n",
              "      <th>Obs</th>\n",
              "      <th>Day</th>\n",
              "      <th>Temp</th>\n",
              "      <th>Demand</th>\n",
              "    </tr>\n",
              "  </thead>\n",
              "  <tbody>\n",
              "    <tr>\n",
              "      <th>0</th>\n",
              "      <td>1</td>\n",
              "      <td>1</td>\n",
              "      <td>92</td>\n",
              "      <td>57.7</td>\n",
              "    </tr>\n",
              "    <tr>\n",
              "      <th>1</th>\n",
              "      <td>2</td>\n",
              "      <td>2</td>\n",
              "      <td>96</td>\n",
              "      <td>71.5</td>\n",
              "    </tr>\n",
              "    <tr>\n",
              "      <th>2</th>\n",
              "      <td>3</td>\n",
              "      <td>3</td>\n",
              "      <td>96</td>\n",
              "      <td>73.0</td>\n",
              "    </tr>\n",
              "    <tr>\n",
              "      <th>3</th>\n",
              "      <td>4</td>\n",
              "      <td>4</td>\n",
              "      <td>89</td>\n",
              "      <td>68.6</td>\n",
              "    </tr>\n",
              "    <tr>\n",
              "      <th>4</th>\n",
              "      <td>5</td>\n",
              "      <td>5</td>\n",
              "      <td>95</td>\n",
              "      <td>71.2</td>\n",
              "    </tr>\n",
              "  </tbody>\n",
              "</table>\n",
              "</div>\n",
              "      <button class=\"colab-df-convert\" onclick=\"convertToInteractive('df-87934acf-7723-42a4-81e0-de82657815e9')\"\n",
              "              title=\"Convert this dataframe to an interactive table.\"\n",
              "              style=\"display:none;\">\n",
              "        \n",
              "  <svg xmlns=\"http://www.w3.org/2000/svg\" height=\"24px\"viewBox=\"0 0 24 24\"\n",
              "       width=\"24px\">\n",
              "    <path d=\"M0 0h24v24H0V0z\" fill=\"none\"/>\n",
              "    <path d=\"M18.56 5.44l.94 2.06.94-2.06 2.06-.94-2.06-.94-.94-2.06-.94 2.06-2.06.94zm-11 1L8.5 8.5l.94-2.06 2.06-.94-2.06-.94L8.5 2.5l-.94 2.06-2.06.94zm10 10l.94 2.06.94-2.06 2.06-.94-2.06-.94-.94-2.06-.94 2.06-2.06.94z\"/><path d=\"M17.41 7.96l-1.37-1.37c-.4-.4-.92-.59-1.43-.59-.52 0-1.04.2-1.43.59L10.3 9.45l-7.72 7.72c-.78.78-.78 2.05 0 2.83L4 21.41c.39.39.9.59 1.41.59.51 0 1.02-.2 1.41-.59l7.78-7.78 2.81-2.81c.8-.78.8-2.07 0-2.86zM5.41 20L4 18.59l7.72-7.72 1.47 1.35L5.41 20z\"/>\n",
              "  </svg>\n",
              "      </button>\n",
              "      \n",
              "  <style>\n",
              "    .colab-df-container {\n",
              "      display:flex;\n",
              "      flex-wrap:wrap;\n",
              "      gap: 12px;\n",
              "    }\n",
              "\n",
              "    .colab-df-convert {\n",
              "      background-color: #E8F0FE;\n",
              "      border: none;\n",
              "      border-radius: 50%;\n",
              "      cursor: pointer;\n",
              "      display: none;\n",
              "      fill: #1967D2;\n",
              "      height: 32px;\n",
              "      padding: 0 0 0 0;\n",
              "      width: 32px;\n",
              "    }\n",
              "\n",
              "    .colab-df-convert:hover {\n",
              "      background-color: #E2EBFA;\n",
              "      box-shadow: 0px 1px 2px rgba(60, 64, 67, 0.3), 0px 1px 3px 1px rgba(60, 64, 67, 0.15);\n",
              "      fill: #174EA6;\n",
              "    }\n",
              "\n",
              "    [theme=dark] .colab-df-convert {\n",
              "      background-color: #3B4455;\n",
              "      fill: #D2E3FC;\n",
              "    }\n",
              "\n",
              "    [theme=dark] .colab-df-convert:hover {\n",
              "      background-color: #434B5C;\n",
              "      box-shadow: 0px 1px 3px 1px rgba(0, 0, 0, 0.15);\n",
              "      filter: drop-shadow(0px 1px 2px rgba(0, 0, 0, 0.3));\n",
              "      fill: #FFFFFF;\n",
              "    }\n",
              "  </style>\n",
              "\n",
              "      <script>\n",
              "        const buttonEl =\n",
              "          document.querySelector('#df-87934acf-7723-42a4-81e0-de82657815e9 button.colab-df-convert');\n",
              "        buttonEl.style.display =\n",
              "          google.colab.kernel.accessAllowed ? 'block' : 'none';\n",
              "\n",
              "        async function convertToInteractive(key) {\n",
              "          const element = document.querySelector('#df-87934acf-7723-42a4-81e0-de82657815e9');\n",
              "          const dataTable =\n",
              "            await google.colab.kernel.invokeFunction('convertToInteractive',\n",
              "                                                     [key], {});\n",
              "          if (!dataTable) return;\n",
              "\n",
              "          const docLinkHtml = 'Like what you see? Visit the ' +\n",
              "            '<a target=\"_blank\" href=https://colab.research.google.com/notebooks/data_table.ipynb>data table notebook</a>'\n",
              "            + ' to learn more about interactive tables.';\n",
              "          element.innerHTML = '';\n",
              "          dataTable['output_type'] = 'display_data';\n",
              "          await google.colab.output.renderOutput(dataTable, element);\n",
              "          const docLink = document.createElement('div');\n",
              "          docLink.innerHTML = docLinkHtml;\n",
              "          element.appendChild(docLink);\n",
              "        }\n",
              "      </script>\n",
              "    </div>\n",
              "  </div>\n",
              "  "
            ],
            "text/plain": [
              "   Obs  Day  Temp  Demand\n",
              "0    1    1    92    57.7\n",
              "1    2    2    96    71.5\n",
              "2    3    3    96    73.0\n",
              "3    4    4    89    68.6\n",
              "4    5    5    95    71.2"
            ]
          },
          "execution_count": 7,
          "metadata": {},
          "output_type": "execute_result"
        }
      ],
      "source": [
        "from google.colab import drive\n",
        "import pandas as pd\n",
        "\n",
        "drive.mount('/content/drive')\n",
        "df = pd.read_csv(\"/content/drive/MyDrive/Colab Notebooks/Duque.csv\")\n",
        "# Dataset is now stored in a Pandas Dataframe\n",
        "df.head()"
      ]
    },
    {
      "cell_type": "code",
      "execution_count": null,
      "metadata": {
        "colab": {
          "base_uri": "https://localhost:8080/"
        },
        "id": "JpzNlF8cwnLl",
        "outputId": "0ca12d41-84eb-4ef9-98e2-15a5c3dc41d3"
      },
      "outputs": [
        {
          "name": "stderr",
          "output_type": "stream",
          "text": [
            "/usr/local/lib/python3.7/dist-packages/statsmodels/tools/_testing.py:19: FutureWarning: pandas.util.testing is deprecated. Use the functions in the public API at pandas.testing instead.\n",
            "  import pandas.util.testing as tm\n"
          ]
        },
        {
          "name": "stdout",
          "output_type": "stream",
          "text": [
            "                            OLS Regression Results                            \n",
            "==============================================================================\n",
            "Dep. Variable:                 Demand   R-squared:                       0.050\n",
            "Model:                            OLS   Adj. R-squared:                  0.014\n",
            "Method:                 Least Squares   F-statistic:                     1.376\n",
            "Date:                Fri, 03 Jun 2022   Prob (F-statistic):              0.251\n",
            "Time:                        13:13:20   Log-Likelihood:                -86.635\n",
            "No. Observations:                  28   AIC:                             177.3\n",
            "Df Residuals:                      26   BIC:                             179.9\n",
            "Df Model:                           1                                         \n",
            "Covariance Type:            nonrobust                                         \n",
            "==============================================================================\n",
            "                 coef    std err          t      P>|t|      [0.025      0.975]\n",
            "------------------------------------------------------------------------------\n",
            "const         31.2124     29.259      1.067      0.296     -28.931      91.356\n",
            "Temp           0.3656      0.312      1.173      0.251      -0.275       1.006\n",
            "==============================================================================\n",
            "Omnibus:                        2.746   Durbin-Watson:                   1.118\n",
            "Prob(Omnibus):                  0.253   Jarque-Bera (JB):                1.847\n",
            "Skew:                          -0.423   Prob(JB):                        0.397\n",
            "Kurtosis:                       2.068   Cond. No.                     2.62e+03\n",
            "==============================================================================\n",
            "\n",
            "Warnings:\n",
            "[1] Standard Errors assume that the covariance matrix of the errors is correctly specified.\n",
            "[2] The condition number is large, 2.62e+03. This might indicate that there are\n",
            "strong multicollinearity or other numerical problems.\n",
            "Parameters:  const    31.212383\n",
            "Temp      0.365608\n",
            "dtype: float64\n",
            "Standard errors:  const    29.259382\n",
            "Temp      0.311663\n",
            "dtype: float64\n"
          ]
        },
        {
          "name": "stderr",
          "output_type": "stream",
          "text": [
            "/usr/local/lib/python3.7/dist-packages/statsmodels/tsa/tsatools.py:117: FutureWarning: In a future version of pandas all arguments of concat except for the argument 'objs' will be keyword-only\n",
            "  x = pd.concat(x[::order], 1)\n"
          ]
        }
      ],
      "source": [
        "import statsmodels.api as sm\n",
        "\n",
        "indep=df[['Temp']]\n",
        "indep = sm.add_constant(indep) #include constant\n",
        "#print(indep)\n",
        "model = sm.OLS(df[['Demand']],indep) #model(y,x)\n",
        "results = model.fit()\n",
        "print(results.summary())\n",
        "\n",
        "print(\"Parameters: \", results.params)\n",
        "print(\"Standard errors: \", results.bse) #var std"
      ]
    },
    {
      "cell_type": "code",
      "execution_count": null,
      "metadata": {
        "colab": {
          "base_uri": "https://localhost:8080/"
        },
        "id": "IaDDj2JHwpwo",
        "outputId": "80909a45-7b55-48ee-897f-a00faaab4a87"
      },
      "outputs": [
        {
          "name": "stdout",
          "output_type": "stream",
          "text": [
            "    Obs  Day  Temp  Demand  Prediction2     Error2\n",
            "0     1    1    92    57.7    64.848356  -7.148356\n",
            "1     2    2    96    71.5    66.310790   5.189210\n",
            "2     3    3    96    73.0    66.310790   6.689210\n",
            "3     4    4    89    68.6    63.751531   4.848469\n",
            "4     5    5    95    71.2    65.945181   5.254819\n",
            "5     6    6    94    67.2    65.579573   1.620427\n",
            "6     7    7    99    62.7    67.407615  -4.707615\n",
            "7     8    1    96    64.6    66.310790  -1.710790\n",
            "8     9    2    96    68.5    66.310790   2.189210\n",
            "9    10    3    91    68.8    64.482748   4.317252\n",
            "10   11    4    93    65.8    65.213965   0.586035\n",
            "11   12    5    88    61.5    63.385922  -1.885922\n",
            "12   13    6    90    57.6    64.117139  -6.517139\n",
            "13   14    7    92    54.2    64.848356 -10.648356\n",
            "14   15    1    98    61.1    67.042007  -5.942007\n",
            "15   16    2    94    64.5    65.579573  -1.079573\n",
            "16   17    3    99    68.6    67.407615   1.192385\n",
            "17   18    4    94    67.1    65.579573   1.520427\n",
            "18   19    5    98    76.2    67.042007   9.157993\n",
            "19   20    6    94    65.7    65.579573   0.120427\n",
            "20   21    7    97    60.9    66.676398  -5.776398\n",
            "21   22    1    88    54.5    63.385922  -8.885922\n",
            "22   23    2    92    69.7    64.848356   4.851644\n",
            "23   24    3    89    68.3    63.751531   4.548469\n",
            "24   25    4    96    68.8    66.310790   2.489210\n",
            "25   26    5    92    70.8    64.848356   5.951644\n",
            "26   27    6    90    67.0    64.117139   2.882861\n",
            "27   28    7    99    58.3    67.407615  -9.107615\n"
          ]
        }
      ],
      "source": [
        "df['Prediction2']=results.predict(indep)\n",
        "df['Error2']=results.resid\n",
        "print(df)"
      ]
    },
    {
      "cell_type": "markdown",
      "metadata": {
        "id": "Lgod-spExm6J"
      },
      "source": [
        "## Therefore, the estimated regression equation should be:\n",
        "## Demand = 31.2124 + 0.3656*Temp"
      ]
    },
    {
      "cell_type": "markdown",
      "metadata": {
        "id": "PU5DY0kAxpSA"
      },
      "source": [
        "# 6-(b) Multiple Regression"
      ]
    },
    {
      "cell_type": "code",
      "execution_count": null,
      "metadata": {
        "colab": {
          "base_uri": "https://localhost:8080/"
        },
        "id": "b2vjMvhTxkZe",
        "outputId": "877905be-3abc-4e4c-96ab-483d37ade288"
      },
      "outputs": [
        {
          "name": "stdout",
          "output_type": "stream",
          "text": [
            "    2  3  4  5  6  7\n",
            "0   0  0  0  0  0  0\n",
            "1   1  0  0  0  0  0\n",
            "2   0  1  0  0  0  0\n",
            "3   0  0  1  0  0  0\n",
            "4   0  0  0  1  0  0\n",
            "5   0  0  0  0  1  0\n",
            "6   0  0  0  0  0  1\n",
            "7   0  0  0  0  0  0\n",
            "8   1  0  0  0  0  0\n",
            "9   0  1  0  0  0  0\n",
            "10  0  0  1  0  0  0\n",
            "11  0  0  0  1  0  0\n",
            "12  0  0  0  0  1  0\n",
            "13  0  0  0  0  0  1\n",
            "14  0  0  0  0  0  0\n",
            "15  1  0  0  0  0  0\n",
            "16  0  1  0  0  0  0\n",
            "17  0  0  1  0  0  0\n",
            "18  0  0  0  1  0  0\n",
            "19  0  0  0  0  1  0\n",
            "20  0  0  0  0  0  1\n",
            "21  0  0  0  0  0  0\n",
            "22  1  0  0  0  0  0\n",
            "23  0  1  0  0  0  0\n",
            "24  0  0  1  0  0  0\n",
            "25  0  0  0  1  0  0\n",
            "26  0  0  0  0  1  0\n",
            "27  0  0  0  0  0  1\n",
            "    const  Temp  2  3  4  5  6  7\n",
            "0     1.0    92  0  0  0  0  0  0\n",
            "1     1.0    96  1  0  0  0  0  0\n",
            "2     1.0    96  0  1  0  0  0  0\n",
            "3     1.0    89  0  0  1  0  0  0\n",
            "4     1.0    95  0  0  0  1  0  0\n",
            "5     1.0    94  0  0  0  0  1  0\n",
            "6     1.0    99  0  0  0  0  0  1\n",
            "7     1.0    96  0  0  0  0  0  0\n",
            "8     1.0    96  1  0  0  0  0  0\n",
            "9     1.0    91  0  1  0  0  0  0\n",
            "10    1.0    93  0  0  1  0  0  0\n",
            "11    1.0    88  0  0  0  1  0  0\n",
            "12    1.0    90  0  0  0  0  1  0\n",
            "13    1.0    92  0  0  0  0  0  1\n",
            "14    1.0    98  0  0  0  0  0  0\n",
            "15    1.0    94  1  0  0  0  0  0\n",
            "16    1.0    99  0  1  0  0  0  0\n",
            "17    1.0    94  0  0  1  0  0  0\n",
            "18    1.0    98  0  0  0  1  0  0\n",
            "19    1.0    94  0  0  0  0  1  0\n",
            "20    1.0    97  0  0  0  0  0  1\n",
            "21    1.0    88  0  0  0  0  0  0\n",
            "22    1.0    92  1  0  0  0  0  0\n",
            "23    1.0    89  0  1  0  0  0  0\n",
            "24    1.0    96  0  0  1  0  0  0\n",
            "25    1.0    92  0  0  0  1  0  0\n",
            "26    1.0    90  0  0  0  0  1  0\n",
            "27    1.0    99  0  0  0  0  0  1\n",
            "                            OLS Regression Results                            \n",
            "==============================================================================\n",
            "Dep. Variable:                 Demand   R-squared:                       0.775\n",
            "Model:                            OLS   Adj. R-squared:                  0.696\n",
            "Method:                 Least Squares   F-statistic:                     9.838\n",
            "Date:                Fri, 03 Jun 2022   Prob (F-statistic):           2.67e-05\n",
            "Time:                        13:23:36   Log-Likelihood:                -66.477\n",
            "No. Observations:                  28   AIC:                             149.0\n",
            "Df Residuals:                      20   BIC:                             159.6\n",
            "Df Model:                           7                                         \n",
            "Covariance Type:            nonrobust                                         \n",
            "==============================================================================\n",
            "                 coef    std err          t      P>|t|      [0.025      0.975]\n",
            "------------------------------------------------------------------------------\n",
            "const         -6.5989     17.823     -0.370      0.715     -43.778      30.580\n",
            "Temp           0.7067      0.190      3.721      0.001       0.311       1.103\n",
            "2              8.3683      2.183      3.833      0.001       3.815      12.922\n",
            "3             10.0233      2.175      4.608      0.000       5.486      14.561\n",
            "4              8.4533      2.177      3.883      0.001       3.913      12.994\n",
            "5             10.6267      2.175      4.885      0.000       6.089      15.164\n",
            "6              5.9600      2.193      2.717      0.013       1.385      10.535\n",
            "7             -2.7467      2.261     -1.215      0.239      -7.462       1.969\n",
            "==============================================================================\n",
            "Omnibus:                        1.495   Durbin-Watson:                   1.164\n",
            "Prob(Omnibus):                  0.473   Jarque-Bera (JB):                1.330\n",
            "Skew:                          -0.398   Prob(JB):                        0.514\n",
            "Kurtosis:                       2.288   Cond. No.                     2.88e+03\n",
            "==============================================================================\n",
            "\n",
            "Warnings:\n",
            "[1] Standard Errors assume that the covariance matrix of the errors is correctly specified.\n",
            "[2] The condition number is large, 2.88e+03. This might indicate that there are\n",
            "strong multicollinearity or other numerical problems.\n"
          ]
        },
        {
          "name": "stderr",
          "output_type": "stream",
          "text": [
            "/usr/local/lib/python3.7/dist-packages/statsmodels/tsa/tsatools.py:117: FutureWarning: In a future version of pandas all arguments of concat except for the argument 'objs' will be keyword-only\n",
            "  x = pd.concat(x[::order], 1)\n"
          ]
        },
        {
          "data": {
            "text/plain": [
              "const    -6.598928\n",
              "Temp      0.706673\n",
              "2         8.368327\n",
              "3        10.023332\n",
              "4         8.453337\n",
              "5        10.626668\n",
              "6         5.960010\n",
              "7        -2.746687\n",
              "dtype: float64"
            ]
          },
          "execution_count": 13,
          "metadata": {},
          "output_type": "execute_result"
        }
      ],
      "source": [
        "#daily dummies\n",
        "#drop the first column of the resulting df (since n-1 dummy vars suffice)\n",
        "\n",
        "trendIndep = df['Temp']\n",
        "trendIndep = sm.add_constant(trendIndep)\n",
        "\n",
        "dummy = pd.get_dummies(df['Day'],drop_first = True)\n",
        "# print(dummy)\n",
        "trendIndep2=pd.concat([trendIndep, dummy], axis = 1)\n",
        "# print(trendIndep2)\n",
        "\n",
        "model_daily = sm.OLS(df[['Demand']],trendIndep2) #model(y,x)\n",
        "results_daily = model_daily.fit()\n",
        "print(results_daily.summary())\n",
        "results_daily.params"
      ]
    },
    {
      "cell_type": "markdown",
      "metadata": {
        "id": "GdY2Z5SVxuJ9"
      },
      "source": [
        "## Therefore, the estimated regression model should be:\n",
        "## Demand = -6.5989 + 0.7067 * Temp + 8.3683 * Day2 + 10.0233 * Day3 + 8.4533 * Day4 + 10.6267 * Day5 + 5.9600 * Day6 + -2.7467 * Day7\n",
        "\n",
        "## The $R^2$ = 0.775, meaning that 77.5% of variation of Demand is reduced by introducing Temp, Day2-7 variables in the model"
      ]
    },
    {
      "cell_type": "markdown",
      "metadata": {
        "id": "U8QMTV7Sxxdd"
      },
      "source": [
        "# 6-(c)"
      ]
    },
    {
      "cell_type": "code",
      "execution_count": null,
      "metadata": {
        "colab": {
          "base_uri": "https://localhost:8080/",
          "height": 265
        },
        "id": "1exuatN6xrUc",
        "outputId": "0c122437-ba8b-4334-c29e-658696e6e000"
      },
      "outputs": [
        {
          "data": {
            "image/png": "[encoded data removed]",
            "text/plain": [
              "<Figure size 432x288 with 1 Axes>"
            ]
          },
          "metadata": {},
          "output_type": "display_data"
        }
      ],
      "source": [
        "import matplotlib.pyplot as plt\n",
        "#plot x-y linearity: actual vs. fitted (simple regression only)\n",
        "plt.plot(df['Temp'], df['Demand'], \"o\", label=\"data\")\n",
        "plt.plot(df['Temp'], df['Prediction2'], \"b-\", label=\"OLS\") #blue color & solid line\n",
        "plt.legend(loc=\"best\")\n",
        "plt.show()"
      ]
    },
    {
      "cell_type": "code",
      "execution_count": null,
      "metadata": {
        "colab": {
          "base_uri": "https://localhost:8080/",
          "height": 282
        },
        "id": "bVOm7gWqx0tr",
        "outputId": "f0b01148-3cae-47d7-8fb4-b3f7e31e6e37"
      },
      "outputs": [
        {
          "data": {
            "text/plain": [
              "<matplotlib.axes._subplots.AxesSubplot at 0x7f4889ff7990>"
            ]
          },
          "execution_count": 8,
          "metadata": {},
          "output_type": "execute_result"
        },
        {
          "data": {
            "image/png": "[encoded data removed]",
            "text/plain": [
              "<Figure size 432x288 with 1 Axes>"
            ]
          },
          "metadata": {},
          "output_type": "display_data"
        }
      ],
      "source": [
        "df['Prediction_daily']=results_daily.predict(trendIndep2)\n",
        "df[['Demand','Prediction_daily']].plot()"
      ]
    },
    {
      "cell_type": "markdown",
      "metadata": {
        "id": "dsk7RinyyKty"
      },
      "source": [
        "## Conclusion:\n",
        "## 我們認為multiple regression會比較好，這題的數據非常分散，使用simple regression雖然會得到較容易理解的線性回歸，但卻忽略了每一筆資料的差異性，故我們認為使用miultiple regression會有較精準的結果"
      ]
    },
    {
      "cell_type": "code",
      "execution_count": null,
      "metadata": {
        "colab": {
          "background_save": true,
          "base_uri": "https://localhost:8080/"
        },
        "id": "u7Tl9Ucdv_OW",
        "outputId": "581a5f0f-aeac-4dc1-ab46-ada7dcca687d"
      },
      "outputs": [
        {
          "name": "stderr",
          "output_type": "stream",
          "text": [
            "/usr/local/lib/python3.7/dist-packages/statsmodels/tsa/tsatools.py:117: FutureWarning: In a future version of pandas all arguments of concat except for the argument 'objs' will be keyword-only\n",
            "  x = pd.concat(x[::order], 1)\n"
          ]
        },
        {
          "data": {
            "text/plain": [
              "0    69.851668\n",
              "dtype: float64"
            ]
          },
          "execution_count": null,
          "metadata": {},
          "output_type": "execute_result"
        }
      ],
      "source": [
        "newtemp = pd.DataFrame([1.0, 94], index=[\"const\",\"temp\"])\n",
        "newtemp = newtemp.T\n",
        "newtemp = sm.add_constant(newtemp)\n",
        "# print(newtemp)\n",
        "newday = pd.DataFrame([0,1,0,0,0,0], index =['2','3','4','5','6','7'])\n",
        "newday = newday.T\n",
        "print(newday)\n",
        "newx=pd.concat([newtemp, newday], axis = 1)\n",
        "print(newx)\n",
        "results_daily.predict(newx)\n",
        "\n",
        "\n",
        "# dummy = pd.get_dummies(df['Day'],drop_first = True)\n",
        "# # print(dummy)\n",
        "# trendIndep2=pd.concat([trendIndep, dummy], axis = 1)\n",
        "# print(trendIndep2)\n"
      ]
    }
  ],
  "metadata": {
    "colab": {
      "collapsed_sections": [
        "Vjj7f3shV5o3"
      ],
      "provenance": []
    },
    "kernelspec": {
      "display_name": "Python 3",
      "name": "python3"
    },
    "language_info": {
      "name": "python"
    }
  },
  "nbformat": 4,
  "nbformat_minor": 0
}