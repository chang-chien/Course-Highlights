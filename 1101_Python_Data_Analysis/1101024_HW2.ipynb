{
  "nbformat": 4,
  "nbformat_minor": 0,
  "metadata": {
    "colab": {
      "provenance": []
    },
    "kernelspec": {
      "name": "python3",
      "display_name": "Python 3"
    },
    "language_info": {
      "name": "python"
    }
  },
  "cells": [
    {
      "cell_type": "markdown",
      "metadata": {
        "id": "RFi46ltRaD3c"
      },
      "source": [
        "#挑戰題一：寫個函數讓字串倒過來排"
      ]
    },
    {
      "cell_type": "code",
      "metadata": {
        "colab": {
          "base_uri": "https://localhost:8080/"
        },
        "id": "nHRMxiWxYJz6",
        "outputId": "02fc7663-cf63-4915-fc5e-cbb257fe6570"
      },
      "source": [
        "#自定義函數可將字串反過來\n",
        "def reverse(x):\n",
        "\n",
        "  #從最後一個開始 沒有指定結尾（默認會推完全部） 一路往前推（默認是往後）\n",
        "  re = x[-1::-1]\n",
        "  print(re)\n",
        "\n",
        "#讓使用者輸入字串 並呼叫自定義函數\n",
        "print(\"請輸入字串：\")\n",
        "st = input(\"\")\n",
        "reverse(st)"
      ],
      "execution_count": null,
      "outputs": [
        {
          "output_type": "stream",
          "name": "stdout",
          "text": [
            "請輸入字串：\n",
            "hello\n",
            "olleh\n"
          ]
        }
      ]
    },
    {
      "cell_type": "markdown",
      "metadata": {
        "id": "5Ed3BHKaM95l"
      },
      "source": [
        "#其他題目\n",
        "##固定導入（本次作業用不到）\n"
      ]
    },
    {
      "cell_type": "code",
      "metadata": {
        "id": "DE3icMNnSGyq"
      },
      "source": [
        "##魔術指令 非派森指令\n",
        "%matplotlib inline\n",
        "\n",
        "##建議數據分析時 開頭就寫這三句\n",
        "import numpy as np\n",
        "import pandas as pd\n",
        "import matplotlib.pyplot as plt"
      ],
      "execution_count": null,
      "outputs": []
    },
    {
      "cell_type": "markdown",
      "metadata": {
        "id": "ttJbLyVMQFkV"
      },
      "source": [
        "##第二題：猜數字遊戲"
      ]
    },
    {
      "cell_type": "code",
      "metadata": {
        "id": "9TN5LWhZPV49",
        "colab": {
          "base_uri": "https://localhost:8080/"
        },
        "outputId": "09a9fd20-830d-4b9f-8a42-bc846d19142f"
      },
      "source": [
        "#匯入隨機函數\n",
        "import random\n",
        "\n",
        "#取1-100之間的數建立答案\n",
        "ans = random.randint(1,100)\n",
        "\n",
        "#或是\n",
        "#%pylab inline\n",
        "#ans = randint(1,100)\n",
        "\n",
        "#當答案不為0就執行while迴圈（取1-100所以一定不會是0 一定會執行迴圈）\n",
        "while ans > 0:\n",
        "\n",
        "  #讓使用者猜數字\n",
        "  guess = int(input(\"請猜一個整數（1~100之間）：\"))\n",
        "\n",
        "  #若猜測值大於答案 回復太大\n",
        "  if guess > ans:\n",
        "    print(\"太大了，猜一個小一點的數\")\n",
        "\n",
        "  #若猜測值小於答案 回復太小\n",
        "  elif guess < ans:\n",
        "    print(\"太小了，猜一個大一點的數\")\n",
        "\n",
        "  #若不是太大也不是太小（即相等）回復答對，並把ans歸零離開迴圈\n",
        "  else:\n",
        "    print(\"恭喜你答對了！\")\n",
        "    ans = 0\n"
      ],
      "execution_count": null,
      "outputs": [
        {
          "output_type": "stream",
          "name": "stdout",
          "text": [
            "請猜一個整數（1~100之間）：50\n",
            "太小了，猜一個大一點的數\n",
            "請猜一個整數（1~100之間）：80\n",
            "恭喜你答對了！\n"
          ]
        }
      ]
    },
    {
      "cell_type": "markdown",
      "metadata": {
        "id": "YPO4a5tBWiUQ"
      },
      "source": [
        "##第三題：讚嘆機器人"
      ]
    },
    {
      "cell_type": "code",
      "metadata": {
        "colab": {
          "base_uri": "https://localhost:8080/"
        },
        "id": "DkpQqWmpRe2b",
        "outputId": "fdda03fa-36a5-442f-dfaa-df32c0a97b38"
      },
      "source": [
        "#設定哨兵值 並進入迴圈\n",
        "a = 0\n",
        "while a == 0:\n",
        "\n",
        "  #供使用者輸入\n",
        "  UserType = input(\">>\")\n",
        "\n",
        "  #當使用者輸入關鍵字\"離開\"回復\"bye\"並更改哨兵值、離開迴圈\n",
        "  if UserType == \"離開\":\n",
        "    print(\"bye\")\n",
        "    a = 1\n",
        "\n",
        "  #其餘皆回復讚嘆\n",
        "  else:\n",
        "    print(\"感恩張簡，讚嘆張簡\")"
      ],
      "execution_count": null,
      "outputs": [
        {
          "output_type": "stream",
          "name": "stdout",
          "text": [
            ">>嗨\n",
            "感恩張簡，讚嘆張簡\n",
            ">>離開\n",
            "bye\n"
          ]
        }
      ]
    },
    {
      "cell_type": "markdown",
      "metadata": {
        "id": "_DbCtAz3XtYg"
      },
      "source": [
        "##第四題：寫個函數讓階乘出現"
      ]
    },
    {
      "cell_type": "code",
      "metadata": {
        "colab": {
          "base_uri": "https://localhost:8080/"
        },
        "id": "KH-4-EM7XLyt",
        "outputId": "1c2f8652-f9d8-44d6-eb8b-c6fa0846eb62"
      },
      "source": [
        "#自定義函數 計算階乘\n",
        "def factorial(x):\n",
        "\n",
        "  #設立初始值y\n",
        "  y = 1\n",
        "\n",
        "  #進入迴圈 透過y=y*i 不斷迭代y而得到階乘\n",
        "  for i in range(1, x+1):\n",
        "    y = y * i\n",
        "\n",
        "  #透過format印出階乘及答案\n",
        "  print(\"{}! = {}\".format(x, y))\n",
        "\n",
        "#要求使用者輸入並呼叫自定義函數\n",
        "mul = input(\"請輸入一個正整數：\")\n",
        "factorial(int(mul))\n"
      ],
      "execution_count": null,
      "outputs": [
        {
          "output_type": "stream",
          "name": "stdout",
          "text": [
            "請輸入一個正整數：3\n",
            "3! = 6\n"
          ]
        }
      ]
    },
    {
      "cell_type": "markdown",
      "metadata": {
        "id": "kpSZMcYw_zL4"
      },
      "source": [
        "##挑戰題二：我有一棵樹"
      ]
    },
    {
      "cell_type": "code",
      "metadata": {
        "id": "lk-VroZidWHP",
        "colab": {
          "base_uri": "https://localhost:8080/"
        },
        "outputId": "2a314682-7796-419d-e8f5-ce62adfafec6"
      },
      "source": [
        "#自定義函數可列印樹\n",
        "def tree(x):\n",
        "\n",
        "  #透過st決定該排有幾個全形星號 並在前面列印(x-i)個半形空白讓文字置中\n",
        "  for i in range(x+1):\n",
        "    st = \"＊\"*i\n",
        "    print(\" \"*(x-i) + st)\n",
        "\n",
        "  #列印樹幹\n",
        "  print(\" \"*(x-1) + \"＊\")\n",
        "  print(\" \"*(x-1) + \"＊\")\n",
        "\n",
        "#讓有用者輸入幾層 並轉換成整數型態 呼叫自定義函數\n",
        "high = input(\"請輸入樹的層數：\")\n",
        "tree(int(high))\n",
        "\n",
        "\n",
        "\n"
      ],
      "execution_count": null,
      "outputs": [
        {
          "output_type": "stream",
          "name": "stdout",
          "text": [
            "請輸入數的層數：5\n",
            "     \n",
            "    ＊\n",
            "   ＊＊\n",
            "  ＊＊＊\n",
            " ＊＊＊＊\n",
            "＊＊＊＊＊\n",
            "    ＊\n",
            "    ＊\n"
          ]
        }
      ]
    },
    {
      "cell_type": "code",
      "metadata": {
        "id": "Gksegfc5wCSh"
      },
      "source": [],
      "execution_count": null,
      "outputs": []
    }
  ]
}