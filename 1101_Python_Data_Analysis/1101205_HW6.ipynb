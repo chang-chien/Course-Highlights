{
  "nbformat": 4,
  "nbformat_minor": 0,
  "metadata": {
    "colab": {
      "provenance": []
    },
    "kernelspec": {
      "name": "python3",
      "display_name": "Python 3"
    },
    "language_info": {
      "name": "python"
    }
  },
  "cells": [
    {
      "cell_type": "code",
      "metadata": {
        "id": "SHyiHcAnJT0D"
      },
      "source": [
        "%matplotlib inline\n",
        "\n",
        "import numpy as np\n",
        "import matplotlib.pyplot as plt\n",
        "import pandas as pd"
      ],
      "execution_count": null,
      "outputs": []
    },
    {
      "cell_type": "markdown",
      "metadata": {
        "id": "BT1Uo4HKJUbT"
      },
      "source": [
        "\n",
        "\n",
        "```\n",
        "# 此內容會顯示為程式碼\n",
        "```\n",
        "\n",
        "第二題：資料分析"
      ]
    },
    {
      "cell_type": "code",
      "metadata": {
        "colab": {
          "base_uri": "https://localhost:8080/",
          "height": 283
        },
        "id": "G1svOFq6JMpi",
        "outputId": "9adec9ff-3950-4360-d92e-23baeaeefd3c"
      },
      "source": [
        "x=np.linspace(0,10,50)\n",
        "y=np.array([100, -4.69, -0.3, 40, 5.14, 9.18, 4.02, 5.6, 12.68, 12.12, 70, 2.89, 11.34, 7.46, 10.06, 80, 15.83, 3.49, 9.14, 10.79, 19.52, 60, 15.95, 1.66, 1.91, 13.2, 22.21, 19.2, 19.37, 16.38, 15.96, 24.12, 26.87, 30.5, 21.01, 21.19, 12.86, 25.24, 35.26, 21.65, 31.28, 17.6, 29.35, 21.52, 32.91, 29.33, 28.67, 18.43, 29.84, 26.16])\n",
        "\n",
        "from sklearn.linear_model import LinearRegression\n",
        "regr = LinearRegression()\n",
        "X = x.reshape(50,1)\n",
        "regr.fit(X,y)\n",
        "\n",
        "Y = regr.predict(X)\n",
        "\n",
        "plt.scatter(x,y)\n",
        "plt.plot(x,Y,\"r\")"
      ],
      "execution_count": null,
      "outputs": [
        {
          "output_type": "execute_result",
          "data": {
            "text/plain": [
              "[<matplotlib.lines.Line2D at 0x7f632e17a950>]"
            ]
          },
          "metadata": {},
          "execution_count": 45
        },
        {
          "output_type": "display_data",
          "data": {
            "image/png": "[encoded data removed]",
            "text/plain": [
              "<Figure size 432x288 with 1 Axes>"
            ]
          },
          "metadata": {
            "needs_background": "light"
          }
        }
      ]
    },
    {
      "cell_type": "code",
      "metadata": {
        "id": "FFfXvIEQJpSo",
        "colab": {
          "base_uri": "https://localhost:8080/"
        },
        "outputId": "2217e51f-d9d7-4160-a4b1-d34fc02ae79f"
      },
      "source": [
        "m = (Y[49]-Y[0])/X[49]\n",
        "Dict={\"x\":x , \"y\":y}\n",
        "df = pd.DataFrame(Dict)\n",
        "r = df.x.corr(df.y)\n",
        "print(\"斜率為\",float(m))\n",
        "print(\"相關係數為\",r)"
      ],
      "execution_count": null,
      "outputs": [
        {
          "output_type": "stream",
          "name": "stdout",
          "text": [
            "斜率為 0.5170399999999994\n",
            "相關係數為 0.07746491732777037\n"
          ]
        }
      ]
    },
    {
      "cell_type": "markdown",
      "metadata": {
        "id": "BOA_HN3PQoQa"
      },
      "source": [
        "第三題：刪除離群值"
      ]
    },
    {
      "cell_type": "code",
      "metadata": {
        "id": "lw7019CENUaH",
        "colab": {
          "base_uri": "https://localhost:8080/"
        },
        "outputId": "900907c0-adff-4115-8a7d-770a3f7c5073"
      },
      "source": [
        "x2 = np.delete(x,np.where(y>39))\n",
        "y2 = np.delete(y,np.where(y>39))\n",
        "\n",
        "print(\"新數據x'為\",x2)\n",
        "print(\"新數據y'為\",y2)"
      ],
      "execution_count": null,
      "outputs": [
        {
          "output_type": "stream",
          "name": "stdout",
          "text": [
            "新數據x'為 [ 0.20408163  0.40816327  0.81632653  1.02040816  1.2244898   1.42857143\n",
            "  1.63265306  1.83673469  2.24489796  2.44897959  2.65306122  2.85714286\n",
            "  3.26530612  3.46938776  3.67346939  3.87755102  4.08163265  4.48979592\n",
            "  4.69387755  4.89795918  5.10204082  5.30612245  5.51020408  5.71428571\n",
            "  5.91836735  6.12244898  6.32653061  6.53061224  6.73469388  6.93877551\n",
            "  7.14285714  7.34693878  7.55102041  7.75510204  7.95918367  8.16326531\n",
            "  8.36734694  8.57142857  8.7755102   8.97959184  9.18367347  9.3877551\n",
            "  9.59183673  9.79591837 10.        ]\n",
            "新數據y'為 [-4.69 -0.3   5.14  9.18  4.02  5.6  12.68 12.12  2.89 11.34  7.46 10.06\n",
            " 15.83  3.49  9.14 10.79 19.52 15.95  1.66  1.91 13.2  22.21 19.2  19.37\n",
            " 16.38 15.96 24.12 26.87 30.5  21.01 21.19 12.86 25.24 35.26 21.65 31.28\n",
            " 17.6  29.35 21.52 32.91 29.33 28.67 18.43 29.84 26.16]\n"
          ]
        }
      ]
    },
    {
      "cell_type": "markdown",
      "metadata": {
        "id": "IrDt1NoeRV8s"
      },
      "source": [
        "挑戰題一：迴歸線優化"
      ]
    },
    {
      "cell_type": "code",
      "metadata": {
        "colab": {
          "base_uri": "https://localhost:8080/",
          "height": 283
        },
        "id": "bYy8DuoJRPlh",
        "outputId": "6cada7ef-e41a-4bae-fe5c-4375bdefa968"
      },
      "source": [
        "X2 = x2.reshape(45,1)\n",
        "regr.fit(X2,y2)\n",
        "Y2 = regr.predict(X2)\n",
        "plt.scatter(x2,y2)\n",
        "plt.plot(x,Y,'r')\n",
        "plt.plot(x2,Y2,'orange')"
      ],
      "execution_count": null,
      "outputs": [
        {
          "output_type": "execute_result",
          "data": {
            "text/plain": [
              "[<matplotlib.lines.Line2D at 0x7f632dfda1d0>]"
            ]
          },
          "metadata": {},
          "execution_count": 51
        },
        {
          "output_type": "display_data",
          "data": {
            "image/png": "[encoded data removed]",
            "text/plain": [
              "<Figure size 432x288 with 1 Axes>"
            ]
          },
          "metadata": {
            "needs_background": "light"
          }
        }
      ]
    },
    {
      "cell_type": "code",
      "metadata": {
        "id": "kD3jSIUeSx0M"
      },
      "source": [],
      "execution_count": null,
      "outputs": []
    }
  ]
}