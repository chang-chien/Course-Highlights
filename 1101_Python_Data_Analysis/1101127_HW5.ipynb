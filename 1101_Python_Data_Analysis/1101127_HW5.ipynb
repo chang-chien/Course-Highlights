{
  "nbformat": 4,
  "nbformat_minor": 0,
  "metadata": {
    "colab": {
      "provenance": []
    },
    "kernelspec": {
      "name": "python3",
      "display_name": "Python 3"
    },
    "language_info": {
      "name": "python"
    }
  },
  "cells": [
    {
      "cell_type": "markdown",
      "metadata": {
        "id": "-b5Ra28gGDWe"
      },
      "source": [
        "##挑戰題一：Bubble Sort"
      ]
    },
    {
      "cell_type": "code",
      "metadata": {
        "id": "pEQoZ2pt-E37",
        "colab": {
          "base_uri": "https://localhost:8080/"
        },
        "outputId": "56d20c7c-fa95-4691-e700-e0a839d222e0"
      },
      "source": [
        "def tidy(x):\n",
        "  print(\"開始整理：\",x)\n",
        "  a = int(x[0])\n",
        "  for j in range(len(x)-1):\n",
        "    print(\"\\n正在檢查前\",j+2,\"個數的順序\")\n",
        "    while x[j+1] <= x[j]:\n",
        "      print(\"交換\",x[j+1],\"和\",x[j])\n",
        "      a = x[j]\n",
        "      x[j] = x[j+1]\n",
        "      x[j+1] = a\n",
        "      if j > 0:\n",
        "        j = j-1\n",
        "      print(x)\n",
        "  print(\"\\n整理完成：\",x)\n",
        "\n",
        "x = np.random.randint(1,100,5)\n",
        "tidy(x)"
      ],
      "execution_count": null,
      "outputs": [
        {
          "output_type": "stream",
          "name": "stdout",
          "text": [
            "開始整理： [99 17 34 65 44]\n",
            "\n",
            "正在檢查前 2 個數的順序\n",
            "交換 17 和 99\n",
            "[17 99 34 65 44]\n",
            "\n",
            "正在檢查前 3 個數的順序\n",
            "交換 34 和 99\n",
            "[17 34 99 65 44]\n",
            "\n",
            "正在檢查前 4 個數的順序\n",
            "交換 65 和 99\n",
            "[17 34 65 99 44]\n",
            "\n",
            "正在檢查前 5 個數的順序\n",
            "交換 44 和 99\n",
            "[17 34 65 44 99]\n",
            "交換 44 和 65\n",
            "[17 34 44 65 99]\n",
            "\n",
            "整理完成： [17 34 44 65 99]\n"
          ]
        }
      ]
    },
    {
      "cell_type": "markdown",
      "metadata": {
        "id": "pxbaUjE7q4q8"
      },
      "source": [
        "##第二題：算閏年"
      ]
    },
    {
      "cell_type": "code",
      "metadata": {
        "id": "ve43VQQAve9z"
      },
      "source": [
        "%matplotlib inline\n",
        "\n",
        "import numpy as np\n",
        "import matplotlib.pyplot as plt\n",
        "import pandas as pd"
      ],
      "execution_count": null,
      "outputs": []
    },
    {
      "cell_type": "code",
      "metadata": {
        "colab": {
          "base_uri": "https://localhost:8080/"
        },
        "id": "WIP2znghqyje",
        "outputId": "b523ae07-e480-47cc-fa61-87767c3cf17f"
      },
      "source": [
        "def leap(x):\n",
        "  if (x%4==0):\n",
        "    if (x%100==0):\n",
        "      if (x%400==0):\n",
        "        print(x,\"是閏年\")\n",
        "      else:\n",
        "        print(x,\"不是閏年\")\n",
        "    else:\n",
        "      print(x,\"是閏年\")\n",
        "  else:\n",
        "    print(x,\"不是閏年\")\n",
        "\n",
        "year = input(\"請輸入一個西元年份\")\n",
        "leap(int(year))"
      ],
      "execution_count": null,
      "outputs": [
        {
          "output_type": "stream",
          "name": "stdout",
          "text": [
            "請輸入一個西元年份2000\n",
            "2000 是閏年\n"
          ]
        }
      ]
    },
    {
      "cell_type": "markdown",
      "metadata": {
        "id": "AH-1rZfOsl7m"
      },
      "source": [
        "##第三題：矩陣加法、乘法"
      ]
    },
    {
      "cell_type": "code",
      "metadata": {
        "colab": {
          "base_uri": "https://localhost:8080/"
        },
        "id": "qQ2zMIUZsoOQ",
        "outputId": "f2845378-50b2-4d55-b798-a8500456ba81"
      },
      "source": [
        "# 創建兩個5*5矩陣\n",
        "matrix1 = np.random.randint(1,100,(5,5))\n",
        "matrix2 = np.random.randint(1,100,(5,5))\n",
        "\n",
        "# 矩陣相加\n",
        "print(matrix1 + matrix2)\n",
        "# 矩陣相乘\n",
        "print(np.dot(matrix1, matrix2))"
      ],
      "execution_count": null,
      "outputs": [
        {
          "output_type": "stream",
          "name": "stdout",
          "text": [
            "[[ 91 132  60 126 118]\n",
            " [134 134 127 103 117]\n",
            " [ 73  32  97 102 129]\n",
            " [ 70 101  22  42  55]\n",
            " [ 95  71 135 140 102]]\n",
            "[[11837 15529  9403 20202 11157]\n",
            " [14537 15722 11130 26688 15247]\n",
            " [12583  8048  8684 16470  5781]\n",
            " [ 4770  4131  2989  7013  4647]\n",
            " [17590 11236  9120 19489  8783]]\n"
          ]
        }
      ]
    },
    {
      "cell_type": "markdown",
      "metadata": {
        "id": "zcsbqbKDxupa"
      },
      "source": [
        "##第四題：錄取分數表格"
      ]
    },
    {
      "cell_type": "code",
      "metadata": {
        "colab": {
          "base_uri": "https://localhost:8080/",
          "height": 331
        },
        "id": "CEvFowQTv6b7",
        "outputId": "384f6c66-1858-4114-ecd2-051614839d08"
      },
      "source": [
        "# 儲存需要的資料\n",
        "sub=[\"國文\", \"英文\", \"數甲\", \"數乙\", \"物理\", \"化學\", \"生物\", \"歷史\", \"地理\", \"公民\"]\n",
        "weight={\n",
        "\"土語系\": [2, 2, 0, 1, 0, 0, 0, 1, 1, 0],\n",
        "\"財政系\": [1, 1.5, 0, 1.5, 0, 0, 0, 0, 0, 0],\n",
        "\"金融系\": [1, 1.5, 0, 2, 0, 0, 0, 0, 0, 0],\n",
        "\"國貿系\": [1.5, 2, 0, 2, 0, 0, 0, 0, 0, 0],\n",
        "\"會計系\": [1.5, 2, 0, 2, 0, 0, 0, 1, 1, 0],\n",
        "\"法律系\": [1, 2, 0, 1, 0, 0, 0, 1, 0, 1],\n",
        "\"公行系\": [1, 1.5, 0, 1.25, 0, 0, 0, 0, 0, 1.25],\n",
        "\"應數系\": [1, 1, 1.5, 0, 1, 1, 0, 0, 0, 0],\n",
        "\"教育系\": [1.5, 2, 0, 1.25, 0, 0, 0, 1, 1, 0]\n",
        "}\n",
        "score=[86.5, 79.4, 88.2, 96.5, 86.3, 76.8, 96.1, 78.5, 82.4, 88.6]\n",
        "\n",
        "#儲存index和column的值\n",
        "department=[]\n",
        "W=[]\n",
        "for i in weight:\n",
        "  department.append(i)\n",
        "  W.append(weight[i])\n",
        "df = pd.DataFrame(W,index=department, columns=sub)\n",
        "\n",
        "#也可以直接轉置\n",
        "# df = pd.DataFrame(weight,sub)\n",
        "# dft = df.T\n",
        "\n",
        "# 在df新增一列紀錄加權成績\n",
        "df[\"加權分數\"] = np.dot(df,score)\n",
        "df"
      ],
      "execution_count": null,
      "outputs": [
        {
          "output_type": "execute_result",
          "data": {
            "text/html": [
              "<div>\n",
              "<style scoped>\n",
              "    .dataframe tbody tr th:only-of-type {\n",
              "        vertical-align: middle;\n",
              "    }\n",
              "\n",
              "    .dataframe tbody tr th {\n",
              "        vertical-align: top;\n",
              "    }\n",
              "\n",
              "    .dataframe thead th {\n",
              "        text-align: right;\n",
              "    }\n",
              "</style>\n",
              "<table border=\"1\" class=\"dataframe\">\n",
              "  <thead>\n",
              "    <tr style=\"text-align: right;\">\n",
              "      <th></th>\n",
              "      <th>國文</th>\n",
              "      <th>英文</th>\n",
              "      <th>數甲</th>\n",
              "      <th>數乙</th>\n",
              "      <th>物理</th>\n",
              "      <th>化學</th>\n",
              "      <th>生物</th>\n",
              "      <th>歷史</th>\n",
              "      <th>地理</th>\n",
              "      <th>公民</th>\n",
              "      <th>加權分數</th>\n",
              "    </tr>\n",
              "  </thead>\n",
              "  <tbody>\n",
              "    <tr>\n",
              "      <th>土語系</th>\n",
              "      <td>2.0</td>\n",
              "      <td>2.0</td>\n",
              "      <td>0.0</td>\n",
              "      <td>1.00</td>\n",
              "      <td>0</td>\n",
              "      <td>0</td>\n",
              "      <td>0</td>\n",
              "      <td>1</td>\n",
              "      <td>1</td>\n",
              "      <td>0.00</td>\n",
              "      <td>589.200</td>\n",
              "    </tr>\n",
              "    <tr>\n",
              "      <th>財政系</th>\n",
              "      <td>1.0</td>\n",
              "      <td>1.5</td>\n",
              "      <td>0.0</td>\n",
              "      <td>1.50</td>\n",
              "      <td>0</td>\n",
              "      <td>0</td>\n",
              "      <td>0</td>\n",
              "      <td>0</td>\n",
              "      <td>0</td>\n",
              "      <td>0.00</td>\n",
              "      <td>350.350</td>\n",
              "    </tr>\n",
              "    <tr>\n",
              "      <th>金融系</th>\n",
              "      <td>1.0</td>\n",
              "      <td>1.5</td>\n",
              "      <td>0.0</td>\n",
              "      <td>2.00</td>\n",
              "      <td>0</td>\n",
              "      <td>0</td>\n",
              "      <td>0</td>\n",
              "      <td>0</td>\n",
              "      <td>0</td>\n",
              "      <td>0.00</td>\n",
              "      <td>398.600</td>\n",
              "    </tr>\n",
              "    <tr>\n",
              "      <th>國貿系</th>\n",
              "      <td>1.5</td>\n",
              "      <td>2.0</td>\n",
              "      <td>0.0</td>\n",
              "      <td>2.00</td>\n",
              "      <td>0</td>\n",
              "      <td>0</td>\n",
              "      <td>0</td>\n",
              "      <td>0</td>\n",
              "      <td>0</td>\n",
              "      <td>0.00</td>\n",
              "      <td>481.550</td>\n",
              "    </tr>\n",
              "    <tr>\n",
              "      <th>會計系</th>\n",
              "      <td>1.5</td>\n",
              "      <td>2.0</td>\n",
              "      <td>0.0</td>\n",
              "      <td>2.00</td>\n",
              "      <td>0</td>\n",
              "      <td>0</td>\n",
              "      <td>0</td>\n",
              "      <td>1</td>\n",
              "      <td>1</td>\n",
              "      <td>0.00</td>\n",
              "      <td>642.450</td>\n",
              "    </tr>\n",
              "    <tr>\n",
              "      <th>法律系</th>\n",
              "      <td>1.0</td>\n",
              "      <td>2.0</td>\n",
              "      <td>0.0</td>\n",
              "      <td>1.00</td>\n",
              "      <td>0</td>\n",
              "      <td>0</td>\n",
              "      <td>0</td>\n",
              "      <td>1</td>\n",
              "      <td>0</td>\n",
              "      <td>1.00</td>\n",
              "      <td>508.900</td>\n",
              "    </tr>\n",
              "    <tr>\n",
              "      <th>公行系</th>\n",
              "      <td>1.0</td>\n",
              "      <td>1.5</td>\n",
              "      <td>0.0</td>\n",
              "      <td>1.25</td>\n",
              "      <td>0</td>\n",
              "      <td>0</td>\n",
              "      <td>0</td>\n",
              "      <td>0</td>\n",
              "      <td>0</td>\n",
              "      <td>1.25</td>\n",
              "      <td>436.975</td>\n",
              "    </tr>\n",
              "    <tr>\n",
              "      <th>應數系</th>\n",
              "      <td>1.0</td>\n",
              "      <td>1.0</td>\n",
              "      <td>1.5</td>\n",
              "      <td>0.00</td>\n",
              "      <td>1</td>\n",
              "      <td>1</td>\n",
              "      <td>0</td>\n",
              "      <td>0</td>\n",
              "      <td>0</td>\n",
              "      <td>0.00</td>\n",
              "      <td>461.300</td>\n",
              "    </tr>\n",
              "    <tr>\n",
              "      <th>教育系</th>\n",
              "      <td>1.5</td>\n",
              "      <td>2.0</td>\n",
              "      <td>0.0</td>\n",
              "      <td>1.25</td>\n",
              "      <td>0</td>\n",
              "      <td>0</td>\n",
              "      <td>0</td>\n",
              "      <td>1</td>\n",
              "      <td>1</td>\n",
              "      <td>0.00</td>\n",
              "      <td>570.075</td>\n",
              "    </tr>\n",
              "  </tbody>\n",
              "</table>\n",
              "</div>"
            ],
            "text/plain": [
              "      國文   英文   數甲    數乙  物理  化學  生物  歷史  地理    公民     加權分數\n",
              "土語系  2.0  2.0  0.0  1.00   0   0   0   1   1  0.00  589.200\n",
              "財政系  1.0  1.5  0.0  1.50   0   0   0   0   0  0.00  350.350\n",
              "金融系  1.0  1.5  0.0  2.00   0   0   0   0   0  0.00  398.600\n",
              "國貿系  1.5  2.0  0.0  2.00   0   0   0   0   0  0.00  481.550\n",
              "會計系  1.5  2.0  0.0  2.00   0   0   0   1   1  0.00  642.450\n",
              "法律系  1.0  2.0  0.0  1.00   0   0   0   1   0  1.00  508.900\n",
              "公行系  1.0  1.5  0.0  1.25   0   0   0   0   0  1.25  436.975\n",
              "應數系  1.0  1.0  1.5  0.00   1   1   0   0   0  0.00  461.300\n",
              "教育系  1.5  2.0  0.0  1.25   0   0   0   1   1  0.00  570.075"
            ]
          },
          "metadata": {},
          "execution_count": 83
        }
      ]
    },
    {
      "cell_type": "code",
      "metadata": {
        "id": "jET8yZ0gGNJ2"
      },
      "source": [],
      "execution_count": null,
      "outputs": []
    }
  ]
}