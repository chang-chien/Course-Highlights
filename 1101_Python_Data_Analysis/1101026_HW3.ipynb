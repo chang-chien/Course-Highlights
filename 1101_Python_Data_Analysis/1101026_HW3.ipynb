{
  "nbformat": 4,
  "nbformat_minor": 0,
  "metadata": {
    "colab": {
      "provenance": []
    },
    "kernelspec": {
      "name": "python3",
      "display_name": "Python 3"
    },
    "language_info": {
      "name": "python"
    }
  },
  "cells": [
    {
      "cell_type": "code",
      "metadata": {
        "id": "MezQwa_zUSVv"
      },
      "source": [
        "%matplotlib inline\n",
        "\n",
        "import numpy as np\n",
        "import matplotlib.pyplot as plt"
      ],
      "execution_count": null,
      "outputs": []
    },
    {
      "cell_type": "markdown",
      "metadata": {
        "id": "gvArmqy3656f"
      },
      "source": [
        "##挑戰題二"
      ]
    },
    {
      "cell_type": "code",
      "metadata": {
        "id": "Bm269jnc3xo3",
        "colab": {
          "base_uri": "https://localhost:8080/"
        },
        "outputId": "ae5e0ebf-5fe6-459b-a413-2029e9cb3b48"
      },
      "source": [
        "#設定隨機矩陣 ab決定矩陣大小\n",
        "a = np.random.randint(0,10)\n",
        "b = np.random.randint(0,10)\n",
        "\n",
        "#設定隨機矩陣  martix決定矩陣數字 *1.5才不會每個都介於0~1\n",
        "matrix = np.random.rand(a,b) *1.5\n",
        "\n",
        "#先印出原始矩陣\n",
        "print(matrix)\n",
        "\n",
        "#透過巢狀迴圈更改矩陣的每一個值\n",
        "for i in range(0,a):\n",
        "  for j in range(0,b):\n",
        "    if matrix[i][j] < 1:\n",
        "      matrix[i][j]=0\n",
        "    else:\n",
        "      matrix[i][j]=1\n",
        "\n",
        "#印出更新後的矩陣\n",
        "print(matrix)"
      ],
      "execution_count": null,
      "outputs": [
        {
          "output_type": "stream",
          "name": "stdout",
          "text": [
            "[[0.22223007 0.58976811 0.59547003 1.13125459 1.31633855]\n",
            " [1.35229397 0.23742849 0.48600255 0.29955697 0.96344005]\n",
            " [0.57899901 0.15866613 0.97646089 0.22070714 0.5988128 ]\n",
            " [0.54345451 0.37781231 0.17308106 0.43492338 0.95964924]\n",
            " [1.37837406 1.00171863 0.79400538 0.36704763 1.44260167]\n",
            " [0.67138335 0.39527934 0.8044996  1.32667009 0.56661242]\n",
            " [0.5149095  0.59805591 0.88534482 1.23401719 1.11085367]\n",
            " [0.39973754 1.27603908 1.14066956 0.92693258 1.06839113]]\n",
            "[[0. 0. 0. 1. 1.]\n",
            " [1. 0. 0. 0. 0.]\n",
            " [0. 0. 0. 0. 0.]\n",
            " [0. 0. 0. 0. 0.]\n",
            " [1. 1. 0. 0. 1.]\n",
            " [0. 0. 0. 1. 0.]\n",
            " [0. 0. 0. 1. 1.]\n",
            " [0. 1. 1. 0. 1.]]\n"
          ]
        }
      ]
    },
    {
      "cell_type": "markdown",
      "metadata": {
        "id": "-tK9neX8T9RI"
      },
      "source": [
        "##第二題：各班期中考加權平均"
      ]
    },
    {
      "cell_type": "code",
      "metadata": {
        "colab": {
          "base_uri": "https://localhost:8080/"
        },
        "id": "SvXrIfYpT4nd",
        "outputId": "22b8d962-0deb-4c83-c9d7-501d7c648c8a"
      },
      "source": [
        "##隨機產生三個班級的成績單\n",
        "scoreA = np.random.randint(0, 101, 50)\n",
        "scoreB = np.random.randint(0, 101, 50)\n",
        "scoreC = np.random.randint(0, 101, 50)\n",
        "\n",
        "##將每班成績分成十組（每五個一組）\n",
        "ScoreA = scoreA.reshape(10,5)\n",
        "ScoreB = scoreB.reshape(10,5)\n",
        "ScoreC = scoreC.reshape(10,5)\n",
        "\n",
        "##固定加權\n",
        "weights=[0.25, 0.25, 0.25, 0.15, 0.1]\n",
        "\n",
        "##計算每位學生加權後成績\n",
        "weightA= np.dot(ScoreA, weights)\n",
        "weightB= np.dot(ScoreB, weights)\n",
        "weightC= np.dot(ScoreC, weights)\n",
        "\n",
        "##計算班級平均\n",
        "aveA = weightA.sum()/10\n",
        "aveB = weightB.sum()/10\n",
        "aveC = weightC.sum()/10\n",
        "\n",
        "##將三個班級成績以一個array輸出\n",
        "np.array([aveA, aveB, aveC])"
      ],
      "execution_count": null,
      "outputs": [
        {
          "output_type": "execute_result",
          "data": {
            "text/plain": [
              "array([46.945, 47.355, 48.43 ])"
            ]
          },
          "metadata": {},
          "execution_count": 20
        }
      ]
    },
    {
      "cell_type": "code",
      "metadata": {
        "colab": {
          "base_uri": "https://localhost:8080/"
        },
        "id": "GXtD02--UwIo",
        "outputId": "c5c68cb4-26d2-4a22-aaad-b54e2ffeee39"
      },
      "source": [
        "##偷懶版 把全部學生放一起\n",
        "\n",
        "##隨機產生150個變數（三班*十人*五科）\n",
        "score = np.random.randint(0, 101, 150)\n",
        "\n",
        "##把array分成三組（每五十個一組 因為十人*五科）\n",
        "Score = score.reshape(3,50)\n",
        "\n",
        "##固定加權（*10是因為把全班五十個資料存在同一組了）\n",
        "weights=[0.25, 0.25, 0.25, 0.15, 0.1]*10\n",
        "\n",
        "##計算班級學生 加權後成績 的加總\n",
        "weight= np.dot(Score, weights)\n",
        "\n",
        "##班上有十個人 要除十\n",
        "np.array(weight/10)"
      ],
      "execution_count": null,
      "outputs": [
        {
          "output_type": "execute_result",
          "data": {
            "text/plain": [
              "array([52.03 , 50.205, 50.545])"
            ]
          },
          "metadata": {},
          "execution_count": 33
        }
      ]
    },
    {
      "cell_type": "markdown",
      "metadata": {
        "id": "3Ufzncp7iAOa"
      },
      "source": [
        "##第三題：學生成績分布圖"
      ]
    },
    {
      "cell_type": "code",
      "metadata": {
        "colab": {
          "base_uri": "https://localhost:8080/",
          "height": 382
        },
        "id": "AprCZ1VmZSsC",
        "outputId": "73eb908e-a78f-4676-d89d-450ca814a85f"
      },
      "source": [
        "##在1~100間隨機取樣40次做為班級成績\n",
        "score3 = np.random.randint(0, 101, 40)\n",
        "\n",
        "##格式化列印 也可以用.format()\n",
        "print(\"最高分：%d\"%(score3.max()))\n",
        "print(\"最低分：%d\"%(score3.min()))\n",
        "print(\"及格人數：%d\"%(len(score3[score3>60])))\n",
        "print(\"平均數：%d\"%(score3.mean()))\n",
        "print(\"標準差：%d\"%(np.std(score3, ddof=0)))\n",
        "\n",
        "##以串列儲存x,y軸\n",
        "x = []\n",
        "y = []\n",
        "#讓i變成5.15.25.35...\n",
        "for i in range(5,100,10):\n",
        "  ##要讓柱狀圖畫在中間 x是5.15.25.35...\n",
        "  x.append(i)\n",
        "  #計算(i-5)~(i+5)有幾個數據\n",
        "  y.append(len(score3[score3<(i+5)])-len(score3[score3<(i-5)]))\n",
        "\n",
        "##設定X座標軸\n",
        "plt.xticks([10,20,30,40,50,60,70,80,90,100])\n",
        "\n",
        "##畫出柱狀圖 plt.bar括號中第三格設定寬度\n",
        "plt.bar(x,y, 5)\n",
        "print(x, y, score3)\n",
        "\n"
      ],
      "execution_count": null,
      "outputs": [
        {
          "output_type": "stream",
          "name": "stdout",
          "text": [
            "最高分：97\n",
            "最低分：1\n",
            "及格人數：17\n",
            "平均數：56\n",
            "標準差：29\n",
            "[5, 15, 25, 35, 45, 55, 65, 75, 85, 95] [3, 3, 2, 5, 4, 5, 3, 3, 6, 6] [94 34 58 86 86 69 39 88 45 42 95 52 55  1 10  3 46 84 25 73 96 16 32 29\n",
            " 77 48 85 34 77 11 90 97 60  8 92 57 37 64 88 59]\n"
          ]
        },
        {
          "output_type": "display_data",
          "data": {
            "image/png": "[encoded data removed]",
            "text/plain": [
              "<Figure size 432x288 with 1 Axes>"
            ]
          },
          "metadata": {
            "needs_background": "light"
          }
        }
      ]
    },
    {
      "cell_type": "markdown",
      "metadata": {
        "id": "SKAVdGiJuKiC"
      },
      "source": [
        "##第四題：判斷7的倍數"
      ]
    },
    {
      "cell_type": "code",
      "metadata": {
        "colab": {
          "base_uri": "https://localhost:8080/"
        },
        "id": "PotgmpU1i6LT",
        "outputId": "6cbe2077-59a4-4a9a-cfbf-fa364c7f9ea3"
      },
      "source": [
        "##讓使用者輸入一個數 也可以自己設定\n",
        "num = input(\"請輸入一個整數：\")\n",
        "\n",
        "#不知道使用者輸入的數有幾位 先將要內積的值多設定幾個\n",
        "weight=[1, 3, 2, 6, 4, 5]*100\n",
        "\n",
        "#將使用者輸入的值轉成整數型態 加進串列NUM\n",
        "NUM = []\n",
        "for i in list(num):\n",
        "  NUM.append(int(i))\n",
        "\n",
        "#計算num有幾位 才知道要拿幾個對應的值去內積\n",
        "W = weight[len(num)-1::-1]\n",
        "\n",
        "#NUM和W內積\n",
        "mul = np.dot(W, NUM)\n",
        "\n",
        "#列印判斷結果\n",
        "print(\"該數從右到左分別乘以1,3,2,6,4,5之後再相加\\n得到的數字是\",mul,end=\" \")\n",
        "if (mul%7) == 0:\n",
        "  print(\"可以被七整除\\n所以\",num,\"是七的倍數\")\n",
        "else:\n",
        "  print(\"不能被七整除\\n所以\",num,\"不是七的倍數\")\n",
        "\n"
      ],
      "execution_count": null,
      "outputs": [
        {
          "output_type": "stream",
          "name": "stdout",
          "text": [
            "請輸入一個整數：123456\n",
            "該數從右到左分別乘以1,3,2,6,4,5之後再相加\n",
            "得到的數字是 60 不能被七整除\n",
            "所以 123456 不是七的倍數\n"
          ]
        }
      ]
    },
    {
      "cell_type": "markdown",
      "metadata": {
        "id": "SA47dEwE1-yR"
      },
      "source": [
        "##挑戰題一：計算微積分期末成績"
      ]
    },
    {
      "cell_type": "code",
      "metadata": {
        "colab": {
          "base_uri": "https://localhost:8080/"
        },
        "id": "ckcuNNCTzFN5",
        "outputId": "d9889a0a-ef87-4741-b361-f2076cca3954"
      },
      "source": [
        "##也可以讓使用者自行輸入\n",
        "#score5 = input(\"請輸入全班學生三次成績（輸完一個學生再進行下一個）\")\n",
        "score5 = np.random.randint(0, 101, 150)\n",
        "Score5 = score5.reshape(50,3)\n",
        "\n",
        "#成績計算一\n",
        "weight5_1 = [0.2, 0.35, 0.45]\n",
        "final1 = np.dot(Score5, weight5_1)\n",
        "\n",
        "#成績計算二\n",
        "weight5_2 = [0, 0.4, 0.6]\n",
        "final2 = np.dot(Score5, weight5_2)\n",
        "\n",
        "#成績一二比大小 將大的加入空串列 作為最後呈現\n",
        "final=[]\n",
        "for i in range(50):\n",
        "  if final1[i] > final2[i]:\n",
        "    final.append(final1[i])\n",
        "  else:\n",
        "    final.append(final2[i])\n",
        "print(np.array(final))"
      ],
      "execution_count": null,
      "outputs": [
        {
          "output_type": "stream",
          "name": "stdout",
          "text": [
            "[51.6  78.2  81.4  64.6  19.3  36.35 59.4  23.4  43.3  29.75 75.   71.4\n",
            " 41.8  40.45 74.4  28.7  48.   79.   63.25 46.25 44.8  58.4  74.8  28.4\n",
            " 73.6  47.8  58.85 27.55 68.8  52.15 42.2  53.25 20.65 54.8  80.4  39.65\n",
            " 74.   85.2  56.55 62.8  15.   31.15 54.65 44.7  56.2  41.45 25.4  65.9\n",
            " 56.4  59.4 ]\n"
          ]
        }
      ]
    },
    {
      "cell_type": "code",
      "metadata": {
        "id": "OzztmfcoH8Fu"
      },
      "source": [],
      "execution_count": null,
      "outputs": []
    }
  ]
}